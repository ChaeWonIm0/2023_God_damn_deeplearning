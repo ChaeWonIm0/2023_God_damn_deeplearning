{
  "nbformat": 4,
  "nbformat_minor": 0,
  "metadata": {
    "colab": {
      "provenance": [],
      "authorship_tag": "ABX9TyM0mBzMAxsaPl1WOWowlP4m",
      "include_colab_link": true
    },
    "kernelspec": {
      "name": "python3",
      "display_name": "Python 3"
    },
    "language_info": {
      "name": "python"
    },
    "accelerator": "GPU",
    "gpuClass": "standard"
  },
  "cells": [
    {
      "cell_type": "markdown",
      "metadata": {
        "id": "view-in-github",
        "colab_type": "text"
      },
      "source": [
        "<a href=\"https://colab.research.google.com/github/dla9944/God_damn_deeplearning/blob/master/Seq2Seq_sample_test1.ipynb\" target=\"_parent\"><img src=\"https://colab.research.google.com/assets/colab-badge.svg\" alt=\"Open In Colab\"/></a>"
      ]
    },
    {
      "cell_type": "code",
      "execution_count": 4,
      "metadata": {
        "id": "fDtt1Pxn4gtT"
      },
      "outputs": [],
      "source": [
        "import torch\n",
        "import torch.nn as nn\n",
        "import random\n",
        "import matplotlib.pyplot as plt\n"
      ]
    },
    {
      "cell_type": "code",
      "source": [
        "!pip install Seq2Seq"
      ],
      "metadata": {
        "colab": {
          "base_uri": "https://localhost:8080/"
        },
        "id": "oyWdaUER86Ql",
        "outputId": "eb04a523-b5bb-4b26-eb13-2856c94753e4"
      },
      "execution_count": 5,
      "outputs": [
        {
          "output_type": "stream",
          "name": "stdout",
          "text": [
            "Looking in indexes: https://pypi.org/simple, https://us-python.pkg.dev/colab-wheels/public/simple/\n",
            "Requirement already satisfied: Seq2Seq in /usr/local/lib/python3.8/dist-packages (0.0.4)\n"
          ]
        }
      ]
    },
    {
      "cell_type": "code",
      "source": [
        "vocab_size = 256\n",
        "x_ = list(map(ord, 'hello'))\n",
        "y_ = list(map(ord, 'hola'))\n",
        "x = torch.LongTensor(x_)\n",
        "y = torch.LongTensor(y_)"
      ],
      "metadata": {
        "id": "li-thrwy4qVC"
      },
      "execution_count": 6,
      "outputs": []
    },
    {
      "cell_type": "code",
      "source": [
        "class Seq2Seq(nn.Module):\n",
        "   def __init__(self, vocab_size, hidden_size):\n",
        "       super(Seq2Seq, self).__init__()\n",
        "       self.n_layers = 1\n",
        "       self.hidden_size = hidden_size\n",
        "       self.embedding = nn.Embedding(vocab_size, hidden_size)\n",
        "       self.encoder = nn.GRU(hidden_size, hidden_size)\n",
        "       self.decoder = nn.GRU(hidden_size, hidden_size)\n",
        "       self.project = nn.Linear(hidden_size, vocab_size)\n",
        "\n",
        "   def forward(self, inputs, targets):\n",
        "       initial_state = self._init_state()\n",
        "       embedding = self.embedding(inputs).unsqueeze(1)\n",
        "       encoder_output, encoder_state = self.encoder(embedding, initial_state)\n",
        "       decoder_state = encoder_state\n",
        "       decoder_input = torch.LongTensor([0])\n",
        "\n",
        "       outputs = []\n",
        "       for i in range(targets.size()[0]):\n",
        "          decoder_input = self.embedding(decoder_input).unsqueeze(1)\n",
        "          decoder_output, decoder_state = self.decoder(decoder_input, decoder_state)\n",
        "\n",
        "          projection = self.project(decoder_output)\n",
        "          outputs.append(projection)\n",
        "          decoder_input = torch.LongTensor([targets[i]])\n",
        "       outputs = torch.stack(outputs).squeeze()\n",
        "       return outputs\n",
        "\n",
        "   def _init_state(self, batch_size =1):\n",
        "       weight = next(self.parameters()).data\n",
        "       return weight.new(self.n_layers, batch_size, self.hidden_size).zero_() "
      ],
      "metadata": {
        "id": "HpNeUrmK5GOK"
      },
      "execution_count": 16,
      "outputs": []
    },
    {
      "cell_type": "code",
      "source": [
        "seq2seq = Seq2Seq(vocab_size, 16)\n",
        "criterion = nn.CrossEntropyLoss()\n",
        "optimizer = torch.optim.Adam(seq2seq.parameters(), lr=0.0001)"
      ],
      "metadata": {
        "id": "rKgcmA5g5WYN"
      },
      "execution_count": 17,
      "outputs": []
    },
    {
      "cell_type": "code",
      "source": [
        "log = []\n",
        "for i in range(1000):\n",
        "    prediction = seq2seq(x,y)\n",
        "    loss = criterion(prediction, y)\n",
        "    optimizer.zero_grad()\n",
        "    loss.backward()\n",
        "    optimizer.step()\n",
        "    loss_val = loss.data\n",
        "    log.append(loss_val)\n",
        "    if i % 100 == 0:\n",
        "       print('\\n 반복 : %d 오차 : %s' % (i, loss_val.item()))\n",
        "       _, top1 = prediction.data.topk(1,1)\n",
        "       print([chr(c) for c in top1.squeeze().numpy().tolist()])\n",
        "\n",
        "plt.plot(log)\n",
        "plt.ylabel('cross entropy loss')\n",
        "plt.show()"
      ],
      "metadata": {
        "colab": {
          "base_uri": "https://localhost:8080/",
          "height": 801
        },
        "id": "ljMfNc_v5pOh",
        "outputId": "85e32476-70e9-4919-b394-1f6261914643"
      },
      "execution_count": 18,
      "outputs": [
        {
          "output_type": "stream",
          "name": "stdout",
          "text": [
            "\n",
            " 반복 : 0 오차 : 5.676328659057617\n",
            "['<', '¬', 'p', 'ç']\n",
            "\n",
            " 반복 : 100 오차 : 5.410270690917969\n",
            "['<', 'p', 'p', 'ç']\n",
            "\n",
            " 반복 : 200 오차 : 5.112542629241943\n",
            "[')', 'p', 'p', 'a']\n",
            "\n",
            " 반복 : 300 오차 : 4.754245758056641\n",
            "['h', 'p', 'l', 'a']\n",
            "\n",
            " 반복 : 400 오차 : 4.329888820648193\n",
            "['h', 'l', 'l', 'a']\n",
            "\n",
            " 반복 : 500 오차 : 3.860001802444458\n",
            "['h', 'l', 'l', 'a']\n",
            "\n",
            " 반복 : 600 오차 : 3.376340389251709\n",
            "['h', 'l', 'l', 'a']\n",
            "\n",
            " 반복 : 700 오차 : 2.912646770477295\n",
            "['h', 'l', 'l', 'a']\n",
            "\n",
            " 반복 : 800 오차 : 2.5142595767974854\n",
            "['h', 'l', 'l', 'a']\n",
            "\n",
            " 반복 : 900 오차 : 2.18937611579895\n",
            "['h', 'l', 'l', 'a']\n"
          ]
        },
        {
          "output_type": "display_data",
          "data": {
            "text/plain": [
              "<Figure size 432x288 with 1 Axes>"
            ],
            "image/png": "[encoded data removed]"
          },
          "metadata": {
            "needs_background": "light"
          }
        }
      ]
    },
    {
      "cell_type": "code",
      "source": [
        "# EPOCH가 턱없이 작기 때문에 번역 정확도 하락"
      ],
      "metadata": {
        "id": "8JS4I-uS76W3"
      },
      "execution_count": null,
      "outputs": []
    }
  ]
}