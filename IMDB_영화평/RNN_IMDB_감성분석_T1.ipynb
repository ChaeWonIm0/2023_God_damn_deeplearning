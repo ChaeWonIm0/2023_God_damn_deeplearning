{
  "nbformat": 4,
  "nbformat_minor": 0,
  "metadata": {
    "colab": {
      "provenance": [],
      "include_colab_link": true
    },
    "kernelspec": {
      "name": "python3",
      "display_name": "Python 3"
    },
    "language_info": {
      "name": "python"
    },
    "accelerator": "GPU",
    "gpuClass": "standard"
  },
  "cells": [
    {
      "cell_type": "markdown",
      "metadata": {
        "id": "view-in-github",
        "colab_type": "text"
      },
      "source": [
        "<a href=\"https://colab.research.google.com/github/dla9944/God_damn_deeplearning/blob/master/RNN_IMDB_%EA%B0%90%EC%84%B1%EB%B6%84%EC%84%9D_T1.ipynb\" target=\"_parent\"><img src=\"https://colab.research.google.com/assets/colab-badge.svg\" alt=\"Open In Colab\"/></a>"
      ]
    },
    {
      "cell_type": "code",
      "source": [
        "!pip install torchtext==0.10.1 --user -q"
      ],
      "metadata": {
        "id": "gdUqV5DgbERW"
      },
      "execution_count": null,
      "outputs": []
    },
    {
      "cell_type": "code",
      "source": [
        "!pip show torch torchtext"
      ],
      "metadata": {
        "id": "iUvldhCCeVc2",
        "colab": {
          "base_uri": "https://localhost:8080/"
        },
        "outputId": "caec09aa-bfbb-4dec-de5c-0abaf8a5e3a4"
      },
      "execution_count": null,
      "outputs": [
        {
          "output_type": "stream",
          "name": "stdout",
          "text": [
            "Name: torch\n",
            "Version: 1.9.1\n",
            "Summary: Tensors and Dynamic neural networks in Python with strong GPU acceleration\n",
            "Home-page: https://pytorch.org/\n",
            "Author: PyTorch Team\n",
            "Author-email: packages@pytorch.org\n",
            "License: BSD-3\n",
            "Location: /root/.local/lib/python3.8/site-packages\n",
            "Requires: typing-extensions\n",
            "Required-by: fastai, torchaudio, torchtext, torchvision\n",
            "---\n",
            "Name: torchtext\n",
            "Version: 0.10.1\n",
            "Summary: Text utilities and datasets for PyTorch\n",
            "Home-page: https://github.com/pytorch/text\n",
            "Author: PyTorch core devs and James Bradbury\n",
            "Author-email: jekbradbury@gmail.com\n",
            "License: BSD\n",
            "Location: /root/.local/lib/python3.8/site-packages\n",
            "Requires: numpy, requests, torch, tqdm\n",
            "Required-by: \n"
          ]
        }
      ]
    },
    {
      "cell_type": "code",
      "execution_count": null,
      "metadata": {
        "id": "1vmdHWk2D-Nz"
      },
      "outputs": [],
      "source": [
        "# 필수 라이브러리\n",
        "import os\n",
        "import torch\n",
        "import torch.nn as nn\n",
        "import torch.nn.functional as F\n",
        "from torchtext.legacy import data, datasets"
      ]
    },
    {
      "cell_type": "code",
      "source": [
        "# 패러미터\n",
        "BATCH_SIZE = 64\n",
        "lr = 0.001\n",
        "EPOCHS = 10\n",
        "USE_CUDA = torch.cuda.is_available()\n",
        "DEVICE = torch.device(\"cuda\" if USE_CUDA else \"cpu\")\n",
        "print(f'running in {DEVICE}')"
      ],
      "metadata": {
        "id": "jaq2UJmJGHg9",
        "colab": {
          "base_uri": "https://localhost:8080/"
        },
        "outputId": "0a986fb1-f1da-4ed3-d5ca-f5a50df329d1"
      },
      "execution_count": null,
      "outputs": [
        {
          "output_type": "stream",
          "name": "stdout",
          "text": [
            "running in cuda\n"
          ]
        }
      ]
    },
    {
      "cell_type": "code",
      "source": [
        "TEXT = data.Field(sequential=True, batch_first=True, lower=True)\n",
        "LABEL = data.Field(sequential=False, batch_first=True) "
      ],
      "metadata": {
        "id": "4g3vTHqpGV7m"
      },
      "execution_count": null,
      "outputs": []
    },
    {
      "cell_type": "code",
      "source": [
        "trainset, testset = datasets.IMDB.splits(TEXT, LABEL)"
      ],
      "metadata": {
        "id": "CL_DhgevGiYx",
        "colab": {
          "base_uri": "https://localhost:8080/"
        },
        "outputId": "3e9ecf97-5976-443d-decc-bc817ea0e483"
      },
      "execution_count": null,
      "outputs": [
        {
          "output_type": "stream",
          "name": "stdout",
          "text": [
            "downloading aclImdb_v1.tar.gz\n"
          ]
        },
        {
          "output_type": "stream",
          "name": "stderr",
          "text": [
            "aclImdb_v1.tar.gz: 100%|██████████| 84.1M/84.1M [00:09<00:00, 9.16MB/s]\n"
          ]
        }
      ]
    },
    {
      "cell_type": "code",
      "source": [
        "print(f\"훈련셋 : {len(trainset)}\")\n",
        "print(f\"시험셋 : {len(testset)}\")"
      ],
      "metadata": {
        "id": "AtdLVWFrJhki",
        "colab": {
          "base_uri": "https://localhost:8080/"
        },
        "outputId": "99a36561-4975-4edf-c1cc-1c621d16cda1"
      },
      "execution_count": null,
      "outputs": [
        {
          "output_type": "stream",
          "name": "stdout",
          "text": [
            "훈련셋 : 25000\n",
            "시험셋 : 25000\n"
          ]
        }
      ]
    },
    {
      "cell_type": "code",
      "source": [
        "trainset[0].text[:10] "
      ],
      "metadata": {
        "id": "azjekxIpOOe7",
        "colab": {
          "base_uri": "https://localhost:8080/"
        },
        "outputId": "d1389dff-9fe3-4b84-92d6-ce663ececd34"
      },
      "execution_count": null,
      "outputs": [
        {
          "output_type": "execute_result",
          "data": {
            "text/plain": [
              "['if',\n",
              " 'you',\n",
              " 'want',\n",
              " 'to',\n",
              " 'learn',\n",
              " 'something',\n",
              " 'about',\n",
              " 'the',\n",
              " 'spanish',\n",
              " 'civil']"
            ]
          },
          "metadata": {},
          "execution_count": 7
        }
      ]
    },
    {
      "cell_type": "code",
      "source": [
        "# 단어 사전\n",
        "TEXT.build_vocab(trainset, min_freq=5) \n",
        "LABEL.build_vocab(trainset)"
      ],
      "metadata": {
        "id": "e-CXQ0CfOPCE"
      },
      "execution_count": null,
      "outputs": []
    },
    {
      "cell_type": "code",
      "source": [
        "TEXT.vocab.freqs.most_common(100) "
      ],
      "metadata": {
        "colab": {
          "base_uri": "https://localhost:8080/"
        },
        "id": "pCdD5obXtLzg",
        "outputId": "00e1ad4c-6ad6-4b94-861a-638ab5b3d6b3"
      },
      "execution_count": null,
      "outputs": [
        {
          "output_type": "execute_result",
          "data": {
            "text/plain": [
              "[('the', 322198),\n",
              " ('a', 159953),\n",
              " ('and', 158572),\n",
              " ('of', 144462),\n",
              " ('to', 133967),\n",
              " ('is', 104171),\n",
              " ('in', 90527),\n",
              " ('i', 70480),\n",
              " ('this', 69714),\n",
              " ('that', 66292),\n",
              " ('it', 65505),\n",
              " ('/><br', 50935),\n",
              " ('was', 47024),\n",
              " ('as', 45102),\n",
              " ('for', 42843),\n",
              " ('with', 42729),\n",
              " ('but', 39764),\n",
              " ('on', 31619),\n",
              " ('movie', 30887),\n",
              " ('his', 29059),\n",
              " ('are', 28743),\n",
              " ('not', 28597),\n",
              " ('film', 27777),\n",
              " ('you', 27564),\n",
              " ('have', 27344),\n",
              " ('he', 26177),\n",
              " ('be', 25691),\n",
              " ('at', 22731),\n",
              " ('one', 22480),\n",
              " ('by', 21976),\n",
              " ('an', 21240),\n",
              " ('they', 20624),\n",
              " ('from', 19934),\n",
              " ('all', 19740),\n",
              " ('who', 19407),\n",
              " ('like', 18779),\n",
              " ('so', 18099),\n",
              " ('just', 17309),\n",
              " ('or', 16769),\n",
              " ('has', 16570),\n",
              " ('her', 16540),\n",
              " ('about', 16486),\n",
              " (\"it's\", 15970),\n",
              " ('some', 15280),\n",
              " ('if', 15189),\n",
              " ('out', 14510),\n",
              " ('what', 14055),\n",
              " ('very', 13633),\n",
              " ('when', 13609),\n",
              " ('more', 13170),\n",
              " ('there', 13094),\n",
              " ('she', 12234),\n",
              " ('would', 12027),\n",
              " ('even', 12010),\n",
              " ('good', 11926),\n",
              " ('my', 11766),\n",
              " ('only', 11566),\n",
              " ('their', 11317),\n",
              " ('no', 11273),\n",
              " ('really', 11065),\n",
              " ('had', 11042),\n",
              " ('which', 10898),\n",
              " ('can', 10797),\n",
              " ('up', 10776),\n",
              " ('were', 10528),\n",
              " ('see', 10410),\n",
              " ('than', 9807),\n",
              " ('we', 9417),\n",
              " ('-', 9355),\n",
              " ('been', 9074),\n",
              " ('into', 8990),\n",
              " ('get', 8959),\n",
              " ('will', 8926),\n",
              " ('story', 8743),\n",
              " ('much', 8739),\n",
              " ('because', 8736),\n",
              " ('most', 8477),\n",
              " ('how', 8456),\n",
              " ('other', 8229),\n",
              " ('also', 8007),\n",
              " ('first', 7985),\n",
              " ('its', 7963),\n",
              " ('time', 7945),\n",
              " ('do', 7904),\n",
              " (\"don't\", 7879),\n",
              " ('me', 7722),\n",
              " ('great', 7714),\n",
              " ('people', 7676),\n",
              " ('could', 7594),\n",
              " ('make', 7590),\n",
              " ('any', 7507),\n",
              " ('/>the', 7409),\n",
              " ('after', 7118),\n",
              " ('made', 7041),\n",
              " ('then', 6945),\n",
              " ('bad', 6816),\n",
              " ('think', 6773),\n",
              " ('being', 6390),\n",
              " ('many', 6388),\n",
              " ('him', 6385)]"
            ]
          },
          "metadata": {},
          "execution_count": 9
        }
      ]
    },
    {
      "cell_type": "code",
      "source": [
        "LABEL.vocab.freqs"
      ],
      "metadata": {
        "colab": {
          "base_uri": "https://localhost:8080/"
        },
        "id": "xn5gGILStL1W",
        "outputId": "b40eae45-e3d6-4c5e-b65b-82ba8f6f8644"
      },
      "execution_count": null,
      "outputs": [
        {
          "output_type": "execute_result",
          "data": {
            "text/plain": [
              "Counter({'pos': 12500, 'neg': 12500})"
            ]
          },
          "metadata": {},
          "execution_count": 10
        }
      ]
    },
    {
      "cell_type": "code",
      "source": [
        "trainset, valset = trainset.split(split_ratio=0.8)"
      ],
      "metadata": {
        "id": "jUL0-TjXtL3g"
      },
      "execution_count": null,
      "outputs": []
    },
    {
      "cell_type": "code",
      "source": [
        "train_iter, val_iter, test_iter = data.BucketIterator.splits(\n",
        "    (trainset, valset, testset),\n",
        "    batch_size=BATCH_SIZE,\n",
        "    shuffle=True, repeat=False\n",
        ")\n"
      ],
      "metadata": {
        "id": "30fbcav3toGX"
      },
      "execution_count": null,
      "outputs": []
    },
    {
      "cell_type": "code",
      "source": [
        "vocab_size = len(TEXT.vocab)\n",
        "n_classes = 2"
      ],
      "metadata": {
        "id": "_jBsHQn8toI5"
      },
      "execution_count": null,
      "outputs": []
    },
    {
      "cell_type": "code",
      "source": [
        "print(f\"[학습셋] {len(trainset)} / [검증셋] {len(valset)} / 테스트셋 {len(testset)} / [단어수] {vocab_size} / [클래스(라벨)] {n_classes}\")"
      ],
      "metadata": {
        "colab": {
          "base_uri": "https://localhost:8080/"
        },
        "id": "C_ME15xptoLP",
        "outputId": "46ed0fc9-d98a-4fa4-9254-894cd819055d"
      },
      "execution_count": null,
      "outputs": [
        {
          "output_type": "stream",
          "name": "stdout",
          "text": [
            "[학습셋] 20000 / [검증셋] 5000 / 테스트셋 25000 / [단어수] 46159 / [클래스(라벨)] 2\n"
          ]
        }
      ]
    },
    {
      "cell_type": "code",
      "source": [
        "class BasicGRU(nn.Module):\n",
        "    def __init__(self,\n",
        "                 n_layers, \n",
        "                 hidden_dim,\n",
        "                 n_vocab, \n",
        "                 embed_dim,\n",
        "                 n_classes, \n",
        "                 dropout_p=0.2\n",
        "                 ):\n",
        "        super(BasicGRU, self).__init__()\n",
        "        self.n_layers = n_layers\n",
        "        self.embed = nn.Embedding(n_vocab, embed_dim)\n",
        "        self.hidden_dim = hidden_dim\n",
        "        self.dropout = nn.Dropout(dropout_p)\n",
        "        self.gru = nn.GRU(embed_dim, self.hidden_dim,\n",
        "                          num_layers=self.n_layers, batch_first=True)\n",
        "\n",
        "        self.out = nn.Linear(hidden_dim, n_classes)\n",
        "    \n",
        "    def forward(self, x): \n",
        "        x = self.embed(x) \n",
        "        h_0 = self._init_state(batch_size=x.size(0)) \n",
        "        x, _ = self.gru(x, h_0) \n",
        "        self.dropout(h_t)\n",
        "        logit = self.out(h_t)\n",
        "        return logit\n",
        "\n",
        "    def _init_state(self, batch_size=1):\n",
        "\n",
        "        weight = next(self.parameters()).data\n",
        "        return weight.new(self.n_layers, batch_size, self.hidden_dim).zero_()\n"
      ],
      "metadata": {
        "id": "YJ64Xq_CQxWC"
      },
      "execution_count": null,
      "outputs": []
    },
    {
      "cell_type": "code",
      "source": [
        "# 학습함수\n",
        "def train(model, optimizer, train_iter):\n",
        "    model.train()\n",
        "    for b, batch in enumerate(train_iter):\n",
        "\n",
        "        x, y = batch.text.to(DEVICE), batch.label.to(DEVICE)\n",
        "\n",
        "        y.data.sub_(1) \n",
        "        optimizer.zero_grad()\n",
        "\n",
        "        logit = model(x) \n",
        "\n",
        "        loss = F.cross_entropy(logit, y) \n",
        "        loss.backward() \n",
        "        optimizer.step() "
      ],
      "metadata": {
        "id": "GJHaELPORr5g"
      },
      "execution_count": null,
      "outputs": []
    },
    {
      "cell_type": "code",
      "source": [
        "# 평가함수\n",
        "def evaluate(model, val_iter):\n",
        "    model.eval()\n",
        "    corrects, total_loss = 0, 0\n",
        "    for batch in val_iter:\n",
        "        x, y = batch.text.to(DEVICE), batch.label.to(DEVICE)\n",
        "        y.data.sub_(1)\n",
        "\n",
        "        logit = model(x)\n",
        "\n",
        "        loss = F.cross_entropy(logit, y, reduction='sum') \n",
        "        total_loss += loss.item()\n",
        "        corrects += (logit.max(1)[1].view(y.size()).data == y.data).sum()\n",
        "    size = len(val_iter.dataset)\n",
        "    avg_loss = total_loss / size\n",
        "    avg_accuracy = corrects / size * 100 \n",
        "    return avg_loss, avg_accuracy"
      ],
      "metadata": {
        "id": "7gaenEH1TC_5"
      },
      "execution_count": null,
      "outputs": []
    },
    {
      "cell_type": "code",
      "source": [
        "model = BasicGRU(1, 256, vocab_size, 128, n_classes, 0.5).to(DEVICE)"
      ],
      "metadata": {
        "id": "EyxJ4V8iTsQV"
      },
      "execution_count": null,
      "outputs": []
    },
    {
      "cell_type": "code",
      "source": [
        "optimizer = torch.optim.Adam(model.parameters(), lr=lr)"
      ],
      "metadata": {
        "id": "vx_6g0XztvYP"
      },
      "execution_count": null,
      "outputs": []
    },
    {
      "cell_type": "code",
      "source": [
        "\n",
        "best_val_loss = None\n",
        "for epoch in range(1, EPOCHS+1):\n",
        "    train(model, optimizer, train_iter)\n",
        "    val_loss, val_accuracy = evaluate(model, val_iter)\n",
        "\n",
        "    print(f\"[에포크: {epoch}] 검증 오차:{val_loss:5.2f} | 검증 정확도:{val_accuracy:5.2f}\")\n",
        "\n",
        "    if not best_val_loss or val_loss < best_val_loss:\n",
        "        if not os.path.isdir(\"snapshot\"):\n",
        "            os.makedirs(\"snapshot\") \n",
        "        torch.save(model.state_dict(), './snapshot/txtclassification.pt')\n",
        "        best_val_loss = val_loss # 오차 갱신"
      ],
      "metadata": {
        "id": "LxbEyxTCT-9v",
        "colab": {
          "base_uri": "https://localhost:8080/"
        },
        "outputId": "51dffa26-0d1d-4395-e86d-8cc50c535f9e"
      },
      "execution_count": null,
      "outputs": [
        {
          "output_type": "stream",
          "name": "stdout",
          "text": [
            "[에포크: 1] 검증 오차: 0.69 | 검증 정확도:49.68\n",
            "[에포크: 2] 검증 오차: 0.69 | 검증 정확도:50.70\n",
            "[에포크: 3] 검증 오차: 0.62 | 검증 정확도:67.32\n",
            "[에포크: 4] 검증 오차: 0.39 | 검증 정확도:83.80\n",
            "[에포크: 5] 검증 오차: 0.34 | 검증 정확도:86.20\n",
            "[에포크: 6] 검증 오차: 0.35 | 검증 정확도:86.34\n",
            "[에포크: 7] 검증 오차: 0.40 | 검증 정확도:86.70\n",
            "[에포크: 8] 검증 오차: 0.45 | 검증 정확도:85.62\n",
            "[에포크: 9] 검증 오차: 0.44 | 검증 정확도:85.58\n",
            "[에포크: 10] 검증 오차: 0.50 | 검증 정확도:85.54\n"
          ]
        }
      ]
    },
    {
      "cell_type": "code",
      "source": [
        "model.load_state_dict(torch.load('./snapshot/txtclassification.pt'))\n",
        "test_loss, test_acc = evaluate(model, test_iter)\n",
        "print('테스트 오차: %5.2f | 테스트 정확도: %5.2f' % (test_loss, test_acc))"
      ],
      "metadata": {
        "id": "feK3a70aVlJs",
        "colab": {
          "base_uri": "https://localhost:8080/"
        },
        "outputId": "4b9dbd29-2ab5-466a-bc8c-1a2f88cdff7c"
      },
      "execution_count": null,
      "outputs": [
        {
          "output_type": "stream",
          "name": "stdout",
          "text": [
            "테스트 오차:  0.35 | 테스트 정확도: 85.35\n"
          ]
        }
      ]
    },
    {
      "cell_type": "code",
      "source": [],
      "metadata": {
        "id": "lkVc5O2rUbaA"
      },
      "execution_count": null,
      "outputs": []
    },
    {
      "cell_type": "code",
      "source": [],
      "metadata": {
        "id": "Jtd1mkMWmhY2"
      },
      "execution_count": null,
      "outputs": []
    }
  ]
}
