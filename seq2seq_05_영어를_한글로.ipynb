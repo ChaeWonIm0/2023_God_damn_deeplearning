{
  "nbformat": 4,
  "nbformat_minor": 0,
  "metadata": {
    "colab": {
      "provenance": [],
      "include_colab_link": true
    },
    "kernelspec": {
      "name": "python3",
      "display_name": "Python 3"
    },
    "language_info": {
      "name": "python"
    },
    "accelerator": "GPU",
    "gpuClass": "standard",
    "widgets": {
      "application/vnd.jupyter.widget-state+json": {
        "7bb3d8372d384a3eb48c4eab3373acdf": {
          "model_module": "@jupyter-widgets/controls",
          "model_name": "HBoxModel",
          "model_module_version": "1.5.0",
          "state": {
            "_dom_classes": [],
            "_model_module": "@jupyter-widgets/controls",
            "_model_module_version": "1.5.0",
            "_model_name": "HBoxModel",
            "_view_count": null,
            "_view_module": "@jupyter-widgets/controls",
            "_view_module_version": "1.5.0",
            "_view_name": "HBoxView",
            "box_style": "",
            "children": [
              "IPY_MODEL_5cba416c3e044fe09d0b697369348103",
              "IPY_MODEL_435de40d818947fc8f0bd58008d94387",
              "IPY_MODEL_dd397f48d357441bb8a338574ecf131f"
            ],
            "layout": "IPY_MODEL_37fa8d494b214aecbfd1e2453e74375f"
          }
        },
        "5cba416c3e044fe09d0b697369348103": {
          "model_module": "@jupyter-widgets/controls",
          "model_name": "HTMLModel",
          "model_module_version": "1.5.0",
          "state": {
            "_dom_classes": [],
            "_model_module": "@jupyter-widgets/controls",
            "_model_module_version": "1.5.0",
            "_model_name": "HTMLModel",
            "_view_count": null,
            "_view_module": "@jupyter-widgets/controls",
            "_view_module_version": "1.5.0",
            "_view_name": "HTMLView",
            "description": "",
            "description_tooltip": null,
            "layout": "IPY_MODEL_df24c6c8d4ad485ebbf5738b5ced4513",
            "placeholder": "​",
            "style": "IPY_MODEL_78361ce8b08547a487cd4800f9f4d647",
            "value": "epoch : 1. loss : 24.30429262161788: 100%"
          }
        },
        "435de40d818947fc8f0bd58008d94387": {
          "model_module": "@jupyter-widgets/controls",
          "model_name": "FloatProgressModel",
          "model_module_version": "1.5.0",
          "state": {
            "_dom_classes": [],
            "_model_module": "@jupyter-widgets/controls",
            "_model_module_version": "1.5.0",
            "_model_name": "FloatProgressModel",
            "_view_count": null,
            "_view_module": "@jupyter-widgets/controls",
            "_view_module_version": "1.5.0",
            "_view_name": "ProgressView",
            "bar_style": "success",
            "description": "",
            "description_tooltip": null,
            "layout": "IPY_MODEL_784e737bc398469abebef4db8b5d4e3b",
            "max": 3592,
            "min": 0,
            "orientation": "horizontal",
            "style": "IPY_MODEL_4396f941a6894c48a1b83c6b9e69360d",
            "value": 3592
          }
        },
        "dd397f48d357441bb8a338574ecf131f": {
          "model_module": "@jupyter-widgets/controls",
          "model_name": "HTMLModel",
          "model_module_version": "1.5.0",
          "state": {
            "_dom_classes": [],
            "_model_module": "@jupyter-widgets/controls",
            "_model_module_version": "1.5.0",
            "_model_name": "HTMLModel",
            "_view_count": null,
            "_view_module": "@jupyter-widgets/controls",
            "_view_module_version": "1.5.0",
            "_view_name": "HTMLView",
            "description": "",
            "description_tooltip": null,
            "layout": "IPY_MODEL_6365a430d77a4316a17aa9854e84707e",
            "placeholder": "​",
            "style": "IPY_MODEL_86209eb6307a40e8a58650e259e6de2b",
            "value": " 3592/3592 [00:42&lt;00:00, 64.55it/s]"
          }
        },
        "37fa8d494b214aecbfd1e2453e74375f": {
          "model_module": "@jupyter-widgets/base",
          "model_name": "LayoutModel",
          "model_module_version": "1.2.0",
          "state": {
            "_model_module": "@jupyter-widgets/base",
            "_model_module_version": "1.2.0",
            "_model_name": "LayoutModel",
            "_view_count": null,
            "_view_module": "@jupyter-widgets/base",
            "_view_module_version": "1.2.0",
            "_view_name": "LayoutView",
            "align_content": null,
            "align_items": null,
            "align_self": null,
            "border": null,
            "bottom": null,
            "display": null,
            "flex": null,
            "flex_flow": null,
            "grid_area": null,
            "grid_auto_columns": null,
            "grid_auto_flow": null,
            "grid_auto_rows": null,
            "grid_column": null,
            "grid_gap": null,
            "grid_row": null,
            "grid_template_areas": null,
            "grid_template_columns": null,
            "grid_template_rows": null,
            "height": null,
            "justify_content": null,
            "justify_items": null,
            "left": null,
            "margin": null,
            "max_height": null,
            "max_width": null,
            "min_height": null,
            "min_width": null,
            "object_fit": null,
            "object_position": null,
            "order": null,
            "overflow": null,
            "overflow_x": null,
            "overflow_y": null,
            "padding": null,
            "right": null,
            "top": null,
            "visibility": null,
            "width": null
          }
        },
        "df24c6c8d4ad485ebbf5738b5ced4513": {
          "model_module": "@jupyter-widgets/base",
          "model_name": "LayoutModel",
          "model_module_version": "1.2.0",
          "state": {
            "_model_module": "@jupyter-widgets/base",
            "_model_module_version": "1.2.0",
            "_model_name": "LayoutModel",
            "_view_count": null,
            "_view_module": "@jupyter-widgets/base",
            "_view_module_version": "1.2.0",
            "_view_name": "LayoutView",
            "align_content": null,
            "align_items": null,
            "align_self": null,
            "border": null,
            "bottom": null,
            "display": null,
            "flex": null,
            "flex_flow": null,
            "grid_area": null,
            "grid_auto_columns": null,
            "grid_auto_flow": null,
            "grid_auto_rows": null,
            "grid_column": null,
            "grid_gap": null,
            "grid_row": null,
            "grid_template_areas": null,
            "grid_template_columns": null,
            "grid_template_rows": null,
            "height": null,
            "justify_content": null,
            "justify_items": null,
            "left": null,
            "margin": null,
            "max_height": null,
            "max_width": null,
            "min_height": null,
            "min_width": null,
            "object_fit": null,
            "object_position": null,
            "order": null,
            "overflow": null,
            "overflow_x": null,
            "overflow_y": null,
            "padding": null,
            "right": null,
            "top": null,
            "visibility": null,
            "width": null
          }
        },
        "78361ce8b08547a487cd4800f9f4d647": {
          "model_module": "@jupyter-widgets/controls",
          "model_name": "DescriptionStyleModel",
          "model_module_version": "1.5.0",
          "state": {
            "_model_module": "@jupyter-widgets/controls",
            "_model_module_version": "1.5.0",
            "_model_name": "DescriptionStyleModel",
            "_view_count": null,
            "_view_module": "@jupyter-widgets/base",
            "_view_module_version": "1.2.0",
            "_view_name": "StyleView",
            "description_width": ""
          }
        },
        "784e737bc398469abebef4db8b5d4e3b": {
          "model_module": "@jupyter-widgets/base",
          "model_name": "LayoutModel",
          "model_module_version": "1.2.0",
          "state": {
            "_model_module": "@jupyter-widgets/base",
            "_model_module_version": "1.2.0",
            "_model_name": "LayoutModel",
            "_view_count": null,
            "_view_module": "@jupyter-widgets/base",
            "_view_module_version": "1.2.0",
            "_view_name": "LayoutView",
            "align_content": null,
            "align_items": null,
            "align_self": null,
            "border": null,
            "bottom": null,
            "display": null,
            "flex": null,
            "flex_flow": null,
            "grid_area": null,
            "grid_auto_columns": null,
            "grid_auto_flow": null,
            "grid_auto_rows": null,
            "grid_column": null,
            "grid_gap": null,
            "grid_row": null,
            "grid_template_areas": null,
            "grid_template_columns": null,
            "grid_template_rows": null,
            "height": null,
            "justify_content": null,
            "justify_items": null,
            "left": null,
            "margin": null,
            "max_height": null,
            "max_width": null,
            "min_height": null,
            "min_width": null,
            "object_fit": null,
            "object_position": null,
            "order": null,
            "overflow": null,
            "overflow_x": null,
            "overflow_y": null,
            "padding": null,
            "right": null,
            "top": null,
            "visibility": null,
            "width": null
          }
        },
        "4396f941a6894c48a1b83c6b9e69360d": {
          "model_module": "@jupyter-widgets/controls",
          "model_name": "ProgressStyleModel",
          "model_module_version": "1.5.0",
          "state": {
            "_model_module": "@jupyter-widgets/controls",
            "_model_module_version": "1.5.0",
            "_model_name": "ProgressStyleModel",
            "_view_count": null,
            "_view_module": "@jupyter-widgets/base",
            "_view_module_version": "1.2.0",
            "_view_name": "StyleView",
            "bar_color": null,
            "description_width": ""
          }
        },
        "6365a430d77a4316a17aa9854e84707e": {
          "model_module": "@jupyter-widgets/base",
          "model_name": "LayoutModel",
          "model_module_version": "1.2.0",
          "state": {
            "_model_module": "@jupyter-widgets/base",
            "_model_module_version": "1.2.0",
            "_model_name": "LayoutModel",
            "_view_count": null,
            "_view_module": "@jupyter-widgets/base",
            "_view_module_version": "1.2.0",
            "_view_name": "LayoutView",
            "align_content": null,
            "align_items": null,
            "align_self": null,
            "border": null,
            "bottom": null,
            "display": null,
            "flex": null,
            "flex_flow": null,
            "grid_area": null,
            "grid_auto_columns": null,
            "grid_auto_flow": null,
            "grid_auto_rows": null,
            "grid_column": null,
            "grid_gap": null,
            "grid_row": null,
            "grid_template_areas": null,
            "grid_template_columns": null,
            "grid_template_rows": null,
            "height": null,
            "justify_content": null,
            "justify_items": null,
            "left": null,
            "margin": null,
            "max_height": null,
            "max_width": null,
            "min_height": null,
            "min_width": null,
            "object_fit": null,
            "object_position": null,
            "order": null,
            "overflow": null,
            "overflow_x": null,
            "overflow_y": null,
            "padding": null,
            "right": null,
            "top": null,
            "visibility": null,
            "width": null
          }
        },
        "86209eb6307a40e8a58650e259e6de2b": {
          "model_module": "@jupyter-widgets/controls",
          "model_name": "DescriptionStyleModel",
          "model_module_version": "1.5.0",
          "state": {
            "_model_module": "@jupyter-widgets/controls",
            "_model_module_version": "1.5.0",
            "_model_name": "DescriptionStyleModel",
            "_view_count": null,
            "_view_module": "@jupyter-widgets/base",
            "_view_module_version": "1.2.0",
            "_view_name": "StyleView",
            "description_width": ""
          }
        },
        "a4ed601a2f5e41bd9906bdcde38e4100": {
          "model_module": "@jupyter-widgets/controls",
          "model_name": "HBoxModel",
          "model_module_version": "1.5.0",
          "state": {
            "_dom_classes": [],
            "_model_module": "@jupyter-widgets/controls",
            "_model_module_version": "1.5.0",
            "_model_name": "HBoxModel",
            "_view_count": null,
            "_view_module": "@jupyter-widgets/controls",
            "_view_module_version": "1.5.0",
            "_view_name": "HBoxView",
            "box_style": "",
            "children": [
              "IPY_MODEL_a95ab7dc4c70486d94a1df068d121d2a",
              "IPY_MODEL_4fcbe7ff94ab48459f046bbae512359c",
              "IPY_MODEL_ae822f82a92b4c7dac9f548e771ed877"
            ],
            "layout": "IPY_MODEL_1ed2351f1af64f43a474161789f2fb97"
          }
        },
        "a95ab7dc4c70486d94a1df068d121d2a": {
          "model_module": "@jupyter-widgets/controls",
          "model_name": "HTMLModel",
          "model_module_version": "1.5.0",
          "state": {
            "_dom_classes": [],
            "_model_module": "@jupyter-widgets/controls",
            "_model_module_version": "1.5.0",
            "_model_name": "HTMLModel",
            "_view_count": null,
            "_view_module": "@jupyter-widgets/controls",
            "_view_module_version": "1.5.0",
            "_view_name": "HTMLView",
            "description": "",
            "description_tooltip": null,
            "layout": "IPY_MODEL_5a8a92987394482085d80ef397488628",
            "placeholder": "​",
            "style": "IPY_MODEL_275ea25d52324a97b3e7581fe69b710f",
            "value": "epoch : 2. loss : 24.70768157503915: 100%"
          }
        },
        "4fcbe7ff94ab48459f046bbae512359c": {
          "model_module": "@jupyter-widgets/controls",
          "model_name": "FloatProgressModel",
          "model_module_version": "1.5.0",
          "state": {
            "_dom_classes": [],
            "_model_module": "@jupyter-widgets/controls",
            "_model_module_version": "1.5.0",
            "_model_name": "FloatProgressModel",
            "_view_count": null,
            "_view_module": "@jupyter-widgets/controls",
            "_view_module_version": "1.5.0",
            "_view_name": "ProgressView",
            "bar_style": "success",
            "description": "",
            "description_tooltip": null,
            "layout": "IPY_MODEL_844ba64e67ce459096d3f85409641ff7",
            "max": 3592,
            "min": 0,
            "orientation": "horizontal",
            "style": "IPY_MODEL_c78d1334493e4ea18af9a20fb0f94d29",
            "value": 3592
          }
        },
        "ae822f82a92b4c7dac9f548e771ed877": {
          "model_module": "@jupyter-widgets/controls",
          "model_name": "HTMLModel",
          "model_module_version": "1.5.0",
          "state": {
            "_dom_classes": [],
            "_model_module": "@jupyter-widgets/controls",
            "_model_module_version": "1.5.0",
            "_model_name": "HTMLModel",
            "_view_count": null,
            "_view_module": "@jupyter-widgets/controls",
            "_view_module_version": "1.5.0",
            "_view_name": "HTMLView",
            "description": "",
            "description_tooltip": null,
            "layout": "IPY_MODEL_6b7969b1ead1452a987bdd33e89b76a1",
            "placeholder": "​",
            "style": "IPY_MODEL_f13fe406a34b4adf8222d4b16f0f6bb9",
            "value": " 3592/3592 [00:42&lt;00:00, 63.67it/s]"
          }
        },
        "1ed2351f1af64f43a474161789f2fb97": {
          "model_module": "@jupyter-widgets/base",
          "model_name": "LayoutModel",
          "model_module_version": "1.2.0",
          "state": {
            "_model_module": "@jupyter-widgets/base",
            "_model_module_version": "1.2.0",
            "_model_name": "LayoutModel",
            "_view_count": null,
            "_view_module": "@jupyter-widgets/base",
            "_view_module_version": "1.2.0",
            "_view_name": "LayoutView",
            "align_content": null,
            "align_items": null,
            "align_self": null,
            "border": null,
            "bottom": null,
            "display": null,
            "flex": null,
            "flex_flow": null,
            "grid_area": null,
            "grid_auto_columns": null,
            "grid_auto_flow": null,
            "grid_auto_rows": null,
            "grid_column": null,
            "grid_gap": null,
            "grid_row": null,
            "grid_template_areas": null,
            "grid_template_columns": null,
            "grid_template_rows": null,
            "height": null,
            "justify_content": null,
            "justify_items": null,
            "left": null,
            "margin": null,
            "max_height": null,
            "max_width": null,
            "min_height": null,
            "min_width": null,
            "object_fit": null,
            "object_position": null,
            "order": null,
            "overflow": null,
            "overflow_x": null,
            "overflow_y": null,
            "padding": null,
            "right": null,
            "top": null,
            "visibility": null,
            "width": null
          }
        },
        "5a8a92987394482085d80ef397488628": {
          "model_module": "@jupyter-widgets/base",
          "model_name": "LayoutModel",
          "model_module_version": "1.2.0",
          "state": {
            "_model_module": "@jupyter-widgets/base",
            "_model_module_version": "1.2.0",
            "_model_name": "LayoutModel",
            "_view_count": null,
            "_view_module": "@jupyter-widgets/base",
            "_view_module_version": "1.2.0",
            "_view_name": "LayoutView",
            "align_content": null,
            "align_items": null,
            "align_self": null,
            "border": null,
            "bottom": null,
            "display": null,
            "flex": null,
            "flex_flow": null,
            "grid_area": null,
            "grid_auto_columns": null,
            "grid_auto_flow": null,
            "grid_auto_rows": null,
            "grid_column": null,
            "grid_gap": null,
            "grid_row": null,
            "grid_template_areas": null,
            "grid_template_columns": null,
            "grid_template_rows": null,
            "height": null,
            "justify_content": null,
            "justify_items": null,
            "left": null,
            "margin": null,
            "max_height": null,
            "max_width": null,
            "min_height": null,
            "min_width": null,
            "object_fit": null,
            "object_position": null,
            "order": null,
            "overflow": null,
            "overflow_x": null,
            "overflow_y": null,
            "padding": null,
            "right": null,
            "top": null,
            "visibility": null,
            "width": null
          }
        },
        "275ea25d52324a97b3e7581fe69b710f": {
          "model_module": "@jupyter-widgets/controls",
          "model_name": "DescriptionStyleModel",
          "model_module_version": "1.5.0",
          "state": {
            "_model_module": "@jupyter-widgets/controls",
            "_model_module_version": "1.5.0",
            "_model_name": "DescriptionStyleModel",
            "_view_count": null,
            "_view_module": "@jupyter-widgets/base",
            "_view_module_version": "1.2.0",
            "_view_name": "StyleView",
            "description_width": ""
          }
        },
        "844ba64e67ce459096d3f85409641ff7": {
          "model_module": "@jupyter-widgets/base",
          "model_name": "LayoutModel",
          "model_module_version": "1.2.0",
          "state": {
            "_model_module": "@jupyter-widgets/base",
            "_model_module_version": "1.2.0",
            "_model_name": "LayoutModel",
            "_view_count": null,
            "_view_module": "@jupyter-widgets/base",
            "_view_module_version": "1.2.0",
            "_view_name": "LayoutView",
            "align_content": null,
            "align_items": null,
            "align_self": null,
            "border": null,
            "bottom": null,
            "display": null,
            "flex": null,
            "flex_flow": null,
            "grid_area": null,
            "grid_auto_columns": null,
            "grid_auto_flow": null,
            "grid_auto_rows": null,
            "grid_column": null,
            "grid_gap": null,
            "grid_row": null,
            "grid_template_areas": null,
            "grid_template_columns": null,
            "grid_template_rows": null,
            "height": null,
            "justify_content": null,
            "justify_items": null,
            "left": null,
            "margin": null,
            "max_height": null,
            "max_width": null,
            "min_height": null,
            "min_width": null,
            "object_fit": null,
            "object_position": null,
            "order": null,
            "overflow": null,
            "overflow_x": null,
            "overflow_y": null,
            "padding": null,
            "right": null,
            "top": null,
            "visibility": null,
            "width": null
          }
        },
        "c78d1334493e4ea18af9a20fb0f94d29": {
          "model_module": "@jupyter-widgets/controls",
          "model_name": "ProgressStyleModel",
          "model_module_version": "1.5.0",
          "state": {
            "_model_module": "@jupyter-widgets/controls",
            "_model_module_version": "1.5.0",
            "_model_name": "ProgressStyleModel",
            "_view_count": null,
            "_view_module": "@jupyter-widgets/base",
            "_view_module_version": "1.2.0",
            "_view_name": "StyleView",
            "bar_color": null,
            "description_width": ""
          }
        },
        "6b7969b1ead1452a987bdd33e89b76a1": {
          "model_module": "@jupyter-widgets/base",
          "model_name": "LayoutModel",
          "model_module_version": "1.2.0",
          "state": {
            "_model_module": "@jupyter-widgets/base",
            "_model_module_version": "1.2.0",
            "_model_name": "LayoutModel",
            "_view_count": null,
            "_view_module": "@jupyter-widgets/base",
            "_view_module_version": "1.2.0",
            "_view_name": "LayoutView",
            "align_content": null,
            "align_items": null,
            "align_self": null,
            "border": null,
            "bottom": null,
            "display": null,
            "flex": null,
            "flex_flow": null,
            "grid_area": null,
            "grid_auto_columns": null,
            "grid_auto_flow": null,
            "grid_auto_rows": null,
            "grid_column": null,
            "grid_gap": null,
            "grid_row": null,
            "grid_template_areas": null,
            "grid_template_columns": null,
            "grid_template_rows": null,
            "height": null,
            "justify_content": null,
            "justify_items": null,
            "left": null,
            "margin": null,
            "max_height": null,
            "max_width": null,
            "min_height": null,
            "min_width": null,
            "object_fit": null,
            "object_position": null,
            "order": null,
            "overflow": null,
            "overflow_x": null,
            "overflow_y": null,
            "padding": null,
            "right": null,
            "top": null,
            "visibility": null,
            "width": null
          }
        },
        "f13fe406a34b4adf8222d4b16f0f6bb9": {
          "model_module": "@jupyter-widgets/controls",
          "model_name": "DescriptionStyleModel",
          "model_module_version": "1.5.0",
          "state": {
            "_model_module": "@jupyter-widgets/controls",
            "_model_module_version": "1.5.0",
            "_model_name": "DescriptionStyleModel",
            "_view_count": null,
            "_view_module": "@jupyter-widgets/base",
            "_view_module_version": "1.2.0",
            "_view_name": "StyleView",
            "description_width": ""
          }
        },
        "59c4145a19284b40915b7c046cbe95d7": {
          "model_module": "@jupyter-widgets/controls",
          "model_name": "HBoxModel",
          "model_module_version": "1.5.0",
          "state": {
            "_dom_classes": [],
            "_model_module": "@jupyter-widgets/controls",
            "_model_module_version": "1.5.0",
            "_model_name": "HBoxModel",
            "_view_count": null,
            "_view_module": "@jupyter-widgets/controls",
            "_view_module_version": "1.5.0",
            "_view_name": "HBoxView",
            "box_style": "",
            "children": [
              "IPY_MODEL_af73e5130300446fb42e80e924258196",
              "IPY_MODEL_b2a601e472a645948e283276277637f1",
              "IPY_MODEL_b87acdc9d6294e60b389c44fe8195da8"
            ],
            "layout": "IPY_MODEL_4d66ed774c1d417aa5140c9c41444da9"
          }
        },
        "af73e5130300446fb42e80e924258196": {
          "model_module": "@jupyter-widgets/controls",
          "model_name": "HTMLModel",
          "model_module_version": "1.5.0",
          "state": {
            "_dom_classes": [],
            "_model_module": "@jupyter-widgets/controls",
            "_model_module_version": "1.5.0",
            "_model_name": "HTMLModel",
            "_view_count": null,
            "_view_module": "@jupyter-widgets/controls",
            "_view_module_version": "1.5.0",
            "_view_name": "HTMLView",
            "description": "",
            "description_tooltip": null,
            "layout": "IPY_MODEL_d1d36e3b8ba04e66913373079c710f16",
            "placeholder": "​",
            "style": "IPY_MODEL_c4379d7b0eba49d792fb99d5511fdb77",
            "value": "epoch : 3. loss : 24.472651821467778: 100%"
          }
        },
        "b2a601e472a645948e283276277637f1": {
          "model_module": "@jupyter-widgets/controls",
          "model_name": "FloatProgressModel",
          "model_module_version": "1.5.0",
          "state": {
            "_dom_classes": [],
            "_model_module": "@jupyter-widgets/controls",
            "_model_module_version": "1.5.0",
            "_model_name": "FloatProgressModel",
            "_view_count": null,
            "_view_module": "@jupyter-widgets/controls",
            "_view_module_version": "1.5.0",
            "_view_name": "ProgressView",
            "bar_style": "success",
            "description": "",
            "description_tooltip": null,
            "layout": "IPY_MODEL_a3a809eedf2946d5b49dd52867257a40",
            "max": 3592,
            "min": 0,
            "orientation": "horizontal",
            "style": "IPY_MODEL_1d0c40d70cd64edca153a2f6a0d991df",
            "value": 3592
          }
        },
        "b87acdc9d6294e60b389c44fe8195da8": {
          "model_module": "@jupyter-widgets/controls",
          "model_name": "HTMLModel",
          "model_module_version": "1.5.0",
          "state": {
            "_dom_classes": [],
            "_model_module": "@jupyter-widgets/controls",
            "_model_module_version": "1.5.0",
            "_model_name": "HTMLModel",
            "_view_count": null,
            "_view_module": "@jupyter-widgets/controls",
            "_view_module_version": "1.5.0",
            "_view_name": "HTMLView",
            "description": "",
            "description_tooltip": null,
            "layout": "IPY_MODEL_1bc67394fbdc4cf7a496a32f4b64681d",
            "placeholder": "​",
            "style": "IPY_MODEL_61c41e09eb624bc1b55557871ba8e065",
            "value": " 3592/3592 [00:41&lt;00:00, 62.98it/s]"
          }
        },
        "4d66ed774c1d417aa5140c9c41444da9": {
          "model_module": "@jupyter-widgets/base",
          "model_name": "LayoutModel",
          "model_module_version": "1.2.0",
          "state": {
            "_model_module": "@jupyter-widgets/base",
            "_model_module_version": "1.2.0",
            "_model_name": "LayoutModel",
            "_view_count": null,
            "_view_module": "@jupyter-widgets/base",
            "_view_module_version": "1.2.0",
            "_view_name": "LayoutView",
            "align_content": null,
            "align_items": null,
            "align_self": null,
            "border": null,
            "bottom": null,
            "display": null,
            "flex": null,
            "flex_flow": null,
            "grid_area": null,
            "grid_auto_columns": null,
            "grid_auto_flow": null,
            "grid_auto_rows": null,
            "grid_column": null,
            "grid_gap": null,
            "grid_row": null,
            "grid_template_areas": null,
            "grid_template_columns": null,
            "grid_template_rows": null,
            "height": null,
            "justify_content": null,
            "justify_items": null,
            "left": null,
            "margin": null,
            "max_height": null,
            "max_width": null,
            "min_height": null,
            "min_width": null,
            "object_fit": null,
            "object_position": null,
            "order": null,
            "overflow": null,
            "overflow_x": null,
            "overflow_y": null,
            "padding": null,
            "right": null,
            "top": null,
            "visibility": null,
            "width": null
          }
        },
        "d1d36e3b8ba04e66913373079c710f16": {
          "model_module": "@jupyter-widgets/base",
          "model_name": "LayoutModel",
          "model_module_version": "1.2.0",
          "state": {
            "_model_module": "@jupyter-widgets/base",
            "_model_module_version": "1.2.0",
            "_model_name": "LayoutModel",
            "_view_count": null,
            "_view_module": "@jupyter-widgets/base",
            "_view_module_version": "1.2.0",
            "_view_name": "LayoutView",
            "align_content": null,
            "align_items": null,
            "align_self": null,
            "border": null,
            "bottom": null,
            "display": null,
            "flex": null,
            "flex_flow": null,
            "grid_area": null,
            "grid_auto_columns": null,
            "grid_auto_flow": null,
            "grid_auto_rows": null,
            "grid_column": null,
            "grid_gap": null,
            "grid_row": null,
            "grid_template_areas": null,
            "grid_template_columns": null,
            "grid_template_rows": null,
            "height": null,
            "justify_content": null,
            "justify_items": null,
            "left": null,
            "margin": null,
            "max_height": null,
            "max_width": null,
            "min_height": null,
            "min_width": null,
            "object_fit": null,
            "object_position": null,
            "order": null,
            "overflow": null,
            "overflow_x": null,
            "overflow_y": null,
            "padding": null,
            "right": null,
            "top": null,
            "visibility": null,
            "width": null
          }
        },
        "c4379d7b0eba49d792fb99d5511fdb77": {
          "model_module": "@jupyter-widgets/controls",
          "model_name": "DescriptionStyleModel",
          "model_module_version": "1.5.0",
          "state": {
            "_model_module": "@jupyter-widgets/controls",
            "_model_module_version": "1.5.0",
            "_model_name": "DescriptionStyleModel",
            "_view_count": null,
            "_view_module": "@jupyter-widgets/base",
            "_view_module_version": "1.2.0",
            "_view_name": "StyleView",
            "description_width": ""
          }
        },
        "a3a809eedf2946d5b49dd52867257a40": {
          "model_module": "@jupyter-widgets/base",
          "model_name": "LayoutModel",
          "model_module_version": "1.2.0",
          "state": {
            "_model_module": "@jupyter-widgets/base",
            "_model_module_version": "1.2.0",
            "_model_name": "LayoutModel",
            "_view_count": null,
            "_view_module": "@jupyter-widgets/base",
            "_view_module_version": "1.2.0",
            "_view_name": "LayoutView",
            "align_content": null,
            "align_items": null,
            "align_self": null,
            "border": null,
            "bottom": null,
            "display": null,
            "flex": null,
            "flex_flow": null,
            "grid_area": null,
            "grid_auto_columns": null,
            "grid_auto_flow": null,
            "grid_auto_rows": null,
            "grid_column": null,
            "grid_gap": null,
            "grid_row": null,
            "grid_template_areas": null,
            "grid_template_columns": null,
            "grid_template_rows": null,
            "height": null,
            "justify_content": null,
            "justify_items": null,
            "left": null,
            "margin": null,
            "max_height": null,
            "max_width": null,
            "min_height": null,
            "min_width": null,
            "object_fit": null,
            "object_position": null,
            "order": null,
            "overflow": null,
            "overflow_x": null,
            "overflow_y": null,
            "padding": null,
            "right": null,
            "top": null,
            "visibility": null,
            "width": null
          }
        },
        "1d0c40d70cd64edca153a2f6a0d991df": {
          "model_module": "@jupyter-widgets/controls",
          "model_name": "ProgressStyleModel",
          "model_module_version": "1.5.0",
          "state": {
            "_model_module": "@jupyter-widgets/controls",
            "_model_module_version": "1.5.0",
            "_model_name": "ProgressStyleModel",
            "_view_count": null,
            "_view_module": "@jupyter-widgets/base",
            "_view_module_version": "1.2.0",
            "_view_name": "StyleView",
            "bar_color": null,
            "description_width": ""
          }
        },
        "1bc67394fbdc4cf7a496a32f4b64681d": {
          "model_module": "@jupyter-widgets/base",
          "model_name": "LayoutModel",
          "model_module_version": "1.2.0",
          "state": {
            "_model_module": "@jupyter-widgets/base",
            "_model_module_version": "1.2.0",
            "_model_name": "LayoutModel",
            "_view_count": null,
            "_view_module": "@jupyter-widgets/base",
            "_view_module_version": "1.2.0",
            "_view_name": "LayoutView",
            "align_content": null,
            "align_items": null,
            "align_self": null,
            "border": null,
            "bottom": null,
            "display": null,
            "flex": null,
            "flex_flow": null,
            "grid_area": null,
            "grid_auto_columns": null,
            "grid_auto_flow": null,
            "grid_auto_rows": null,
            "grid_column": null,
            "grid_gap": null,
            "grid_row": null,
            "grid_template_areas": null,
            "grid_template_columns": null,
            "grid_template_rows": null,
            "height": null,
            "justify_content": null,
            "justify_items": null,
            "left": null,
            "margin": null,
            "max_height": null,
            "max_width": null,
            "min_height": null,
            "min_width": null,
            "object_fit": null,
            "object_position": null,
            "order": null,
            "overflow": null,
            "overflow_x": null,
            "overflow_y": null,
            "padding": null,
            "right": null,
            "top": null,
            "visibility": null,
            "width": null
          }
        },
        "61c41e09eb624bc1b55557871ba8e065": {
          "model_module": "@jupyter-widgets/controls",
          "model_name": "DescriptionStyleModel",
          "model_module_version": "1.5.0",
          "state": {
            "_model_module": "@jupyter-widgets/controls",
            "_model_module_version": "1.5.0",
            "_model_name": "DescriptionStyleModel",
            "_view_count": null,
            "_view_module": "@jupyter-widgets/base",
            "_view_module_version": "1.2.0",
            "_view_name": "StyleView",
            "description_width": ""
          }
        },
        "98acbca486e74510ac2ffa0e4ed70f98": {
          "model_module": "@jupyter-widgets/controls",
          "model_name": "HBoxModel",
          "model_module_version": "1.5.0",
          "state": {
            "_dom_classes": [],
            "_model_module": "@jupyter-widgets/controls",
            "_model_module_version": "1.5.0",
            "_model_name": "HBoxModel",
            "_view_count": null,
            "_view_module": "@jupyter-widgets/controls",
            "_view_module_version": "1.5.0",
            "_view_name": "HBoxView",
            "box_style": "",
            "children": [
              "IPY_MODEL_5c55ba2334eb4f08b09b3788fb8f009a",
              "IPY_MODEL_541a3e1fc09a4c23a91412ad2a548f1c",
              "IPY_MODEL_f8b44658c821481c8bfbf3e1027a8a6f"
            ],
            "layout": "IPY_MODEL_5ce8d7a192a44ba7910c57cb9bdd2314"
          }
        },
        "5c55ba2334eb4f08b09b3788fb8f009a": {
          "model_module": "@jupyter-widgets/controls",
          "model_name": "HTMLModel",
          "model_module_version": "1.5.0",
          "state": {
            "_dom_classes": [],
            "_model_module": "@jupyter-widgets/controls",
            "_model_module_version": "1.5.0",
            "_model_name": "HTMLModel",
            "_view_count": null,
            "_view_module": "@jupyter-widgets/controls",
            "_view_module_version": "1.5.0",
            "_view_name": "HTMLView",
            "description": "",
            "description_tooltip": null,
            "layout": "IPY_MODEL_23a70eed773f4111a8e475a20d2e9ce1",
            "placeholder": "​",
            "style": "IPY_MODEL_2be2f65d5263488386526bce11eec3e3",
            "value": "epoch : 4. loss : 24.286882260196162: 100%"
          }
        },
        "541a3e1fc09a4c23a91412ad2a548f1c": {
          "model_module": "@jupyter-widgets/controls",
          "model_name": "FloatProgressModel",
          "model_module_version": "1.5.0",
          "state": {
            "_dom_classes": [],
            "_model_module": "@jupyter-widgets/controls",
            "_model_module_version": "1.5.0",
            "_model_name": "FloatProgressModel",
            "_view_count": null,
            "_view_module": "@jupyter-widgets/controls",
            "_view_module_version": "1.5.0",
            "_view_name": "ProgressView",
            "bar_style": "success",
            "description": "",
            "description_tooltip": null,
            "layout": "IPY_MODEL_549df83ab22f492eba247535567393e5",
            "max": 3592,
            "min": 0,
            "orientation": "horizontal",
            "style": "IPY_MODEL_3d4face704bb446dbc9f2ed69a1a2b61",
            "value": 3592
          }
        },
        "f8b44658c821481c8bfbf3e1027a8a6f": {
          "model_module": "@jupyter-widgets/controls",
          "model_name": "HTMLModel",
          "model_module_version": "1.5.0",
          "state": {
            "_dom_classes": [],
            "_model_module": "@jupyter-widgets/controls",
            "_model_module_version": "1.5.0",
            "_model_name": "HTMLModel",
            "_view_count": null,
            "_view_module": "@jupyter-widgets/controls",
            "_view_module_version": "1.5.0",
            "_view_name": "HTMLView",
            "description": "",
            "description_tooltip": null,
            "layout": "IPY_MODEL_c160e4141f6a4b088a3ce6183fa2e8cc",
            "placeholder": "​",
            "style": "IPY_MODEL_61d2cbc2e91949c49899e0f9c8c61d89",
            "value": " 3592/3592 [00:42&lt;00:00, 67.52it/s]"
          }
        },
        "5ce8d7a192a44ba7910c57cb9bdd2314": {
          "model_module": "@jupyter-widgets/base",
          "model_name": "LayoutModel",
          "model_module_version": "1.2.0",
          "state": {
            "_model_module": "@jupyter-widgets/base",
            "_model_module_version": "1.2.0",
            "_model_name": "LayoutModel",
            "_view_count": null,
            "_view_module": "@jupyter-widgets/base",
            "_view_module_version": "1.2.0",
            "_view_name": "LayoutView",
            "align_content": null,
            "align_items": null,
            "align_self": null,
            "border": null,
            "bottom": null,
            "display": null,
            "flex": null,
            "flex_flow": null,
            "grid_area": null,
            "grid_auto_columns": null,
            "grid_auto_flow": null,
            "grid_auto_rows": null,
            "grid_column": null,
            "grid_gap": null,
            "grid_row": null,
            "grid_template_areas": null,
            "grid_template_columns": null,
            "grid_template_rows": null,
            "height": null,
            "justify_content": null,
            "justify_items": null,
            "left": null,
            "margin": null,
            "max_height": null,
            "max_width": null,
            "min_height": null,
            "min_width": null,
            "object_fit": null,
            "object_position": null,
            "order": null,
            "overflow": null,
            "overflow_x": null,
            "overflow_y": null,
            "padding": null,
            "right": null,
            "top": null,
            "visibility": null,
            "width": null
          }
        },
        "23a70eed773f4111a8e475a20d2e9ce1": {
          "model_module": "@jupyter-widgets/base",
          "model_name": "LayoutModel",
          "model_module_version": "1.2.0",
          "state": {
            "_model_module": "@jupyter-widgets/base",
            "_model_module_version": "1.2.0",
            "_model_name": "LayoutModel",
            "_view_count": null,
            "_view_module": "@jupyter-widgets/base",
            "_view_module_version": "1.2.0",
            "_view_name": "LayoutView",
            "align_content": null,
            "align_items": null,
            "align_self": null,
            "border": null,
            "bottom": null,
            "display": null,
            "flex": null,
            "flex_flow": null,
            "grid_area": null,
            "grid_auto_columns": null,
            "grid_auto_flow": null,
            "grid_auto_rows": null,
            "grid_column": null,
            "grid_gap": null,
            "grid_row": null,
            "grid_template_areas": null,
            "grid_template_columns": null,
            "grid_template_rows": null,
            "height": null,
            "justify_content": null,
            "justify_items": null,
            "left": null,
            "margin": null,
            "max_height": null,
            "max_width": null,
            "min_height": null,
            "min_width": null,
            "object_fit": null,
            "object_position": null,
            "order": null,
            "overflow": null,
            "overflow_x": null,
            "overflow_y": null,
            "padding": null,
            "right": null,
            "top": null,
            "visibility": null,
            "width": null
          }
        },
        "2be2f65d5263488386526bce11eec3e3": {
          "model_module": "@jupyter-widgets/controls",
          "model_name": "DescriptionStyleModel",
          "model_module_version": "1.5.0",
          "state": {
            "_model_module": "@jupyter-widgets/controls",
            "_model_module_version": "1.5.0",
            "_model_name": "DescriptionStyleModel",
            "_view_count": null,
            "_view_module": "@jupyter-widgets/base",
            "_view_module_version": "1.2.0",
            "_view_name": "StyleView",
            "description_width": ""
          }
        },
        "549df83ab22f492eba247535567393e5": {
          "model_module": "@jupyter-widgets/base",
          "model_name": "LayoutModel",
          "model_module_version": "1.2.0",
          "state": {
            "_model_module": "@jupyter-widgets/base",
            "_model_module_version": "1.2.0",
            "_model_name": "LayoutModel",
            "_view_count": null,
            "_view_module": "@jupyter-widgets/base",
            "_view_module_version": "1.2.0",
            "_view_name": "LayoutView",
            "align_content": null,
            "align_items": null,
            "align_self": null,
            "border": null,
            "bottom": null,
            "display": null,
            "flex": null,
            "flex_flow": null,
            "grid_area": null,
            "grid_auto_columns": null,
            "grid_auto_flow": null,
            "grid_auto_rows": null,
            "grid_column": null,
            "grid_gap": null,
            "grid_row": null,
            "grid_template_areas": null,
            "grid_template_columns": null,
            "grid_template_rows": null,
            "height": null,
            "justify_content": null,
            "justify_items": null,
            "left": null,
            "margin": null,
            "max_height": null,
            "max_width": null,
            "min_height": null,
            "min_width": null,
            "object_fit": null,
            "object_position": null,
            "order": null,
            "overflow": null,
            "overflow_x": null,
            "overflow_y": null,
            "padding": null,
            "right": null,
            "top": null,
            "visibility": null,
            "width": null
          }
        },
        "3d4face704bb446dbc9f2ed69a1a2b61": {
          "model_module": "@jupyter-widgets/controls",
          "model_name": "ProgressStyleModel",
          "model_module_version": "1.5.0",
          "state": {
            "_model_module": "@jupyter-widgets/controls",
            "_model_module_version": "1.5.0",
            "_model_name": "ProgressStyleModel",
            "_view_count": null,
            "_view_module": "@jupyter-widgets/base",
            "_view_module_version": "1.2.0",
            "_view_name": "StyleView",
            "bar_color": null,
            "description_width": ""
          }
        },
        "c160e4141f6a4b088a3ce6183fa2e8cc": {
          "model_module": "@jupyter-widgets/base",
          "model_name": "LayoutModel",
          "model_module_version": "1.2.0",
          "state": {
            "_model_module": "@jupyter-widgets/base",
            "_model_module_version": "1.2.0",
            "_model_name": "LayoutModel",
            "_view_count": null,
            "_view_module": "@jupyter-widgets/base",
            "_view_module_version": "1.2.0",
            "_view_name": "LayoutView",
            "align_content": null,
            "align_items": null,
            "align_self": null,
            "border": null,
            "bottom": null,
            "display": null,
            "flex": null,
            "flex_flow": null,
            "grid_area": null,
            "grid_auto_columns": null,
            "grid_auto_flow": null,
            "grid_auto_rows": null,
            "grid_column": null,
            "grid_gap": null,
            "grid_row": null,
            "grid_template_areas": null,
            "grid_template_columns": null,
            "grid_template_rows": null,
            "height": null,
            "justify_content": null,
            "justify_items": null,
            "left": null,
            "margin": null,
            "max_height": null,
            "max_width": null,
            "min_height": null,
            "min_width": null,
            "object_fit": null,
            "object_position": null,
            "order": null,
            "overflow": null,
            "overflow_x": null,
            "overflow_y": null,
            "padding": null,
            "right": null,
            "top": null,
            "visibility": null,
            "width": null
          }
        },
        "61d2cbc2e91949c49899e0f9c8c61d89": {
          "model_module": "@jupyter-widgets/controls",
          "model_name": "DescriptionStyleModel",
          "model_module_version": "1.5.0",
          "state": {
            "_model_module": "@jupyter-widgets/controls",
            "_model_module_version": "1.5.0",
            "_model_name": "DescriptionStyleModel",
            "_view_count": null,
            "_view_module": "@jupyter-widgets/base",
            "_view_module_version": "1.2.0",
            "_view_name": "StyleView",
            "description_width": ""
          }
        },
        "85bee47f7411423f8d5bd2de952e21de": {
          "model_module": "@jupyter-widgets/controls",
          "model_name": "HBoxModel",
          "model_module_version": "1.5.0",
          "state": {
            "_dom_classes": [],
            "_model_module": "@jupyter-widgets/controls",
            "_model_module_version": "1.5.0",
            "_model_name": "HBoxModel",
            "_view_count": null,
            "_view_module": "@jupyter-widgets/controls",
            "_view_module_version": "1.5.0",
            "_view_name": "HBoxView",
            "box_style": "",
            "children": [
              "IPY_MODEL_abc63bb1527c4157ae457e6314664387",
              "IPY_MODEL_4b127703494a4b658ffd0f13e0fe9159",
              "IPY_MODEL_e4671beddff04d9888e6beeb9c0ae797"
            ],
            "layout": "IPY_MODEL_b5e7b51b838d472385e793970a625e0c"
          }
        },
        "abc63bb1527c4157ae457e6314664387": {
          "model_module": "@jupyter-widgets/controls",
          "model_name": "HTMLModel",
          "model_module_version": "1.5.0",
          "state": {
            "_dom_classes": [],
            "_model_module": "@jupyter-widgets/controls",
            "_model_module_version": "1.5.0",
            "_model_name": "HTMLModel",
            "_view_count": null,
            "_view_module": "@jupyter-widgets/controls",
            "_view_module_version": "1.5.0",
            "_view_name": "HTMLView",
            "description": "",
            "description_tooltip": null,
            "layout": "IPY_MODEL_6b13c9b9510c4a00ac39348701ca8965",
            "placeholder": "​",
            "style": "IPY_MODEL_fc1e3aab1ba24883be8f42e5414581c3",
            "value": "epoch : 5. loss : 24.478843435545507: 100%"
          }
        },
        "4b127703494a4b658ffd0f13e0fe9159": {
          "model_module": "@jupyter-widgets/controls",
          "model_name": "FloatProgressModel",
          "model_module_version": "1.5.0",
          "state": {
            "_dom_classes": [],
            "_model_module": "@jupyter-widgets/controls",
            "_model_module_version": "1.5.0",
            "_model_name": "FloatProgressModel",
            "_view_count": null,
            "_view_module": "@jupyter-widgets/controls",
            "_view_module_version": "1.5.0",
            "_view_name": "ProgressView",
            "bar_style": "success",
            "description": "",
            "description_tooltip": null,
            "layout": "IPY_MODEL_6e13f49eba8647b3bf1f7123fdfe6b34",
            "max": 3592,
            "min": 0,
            "orientation": "horizontal",
            "style": "IPY_MODEL_35601819b24c44d4b5bb0f7f39c3ef90",
            "value": 3592
          }
        },
        "e4671beddff04d9888e6beeb9c0ae797": {
          "model_module": "@jupyter-widgets/controls",
          "model_name": "HTMLModel",
          "model_module_version": "1.5.0",
          "state": {
            "_dom_classes": [],
            "_model_module": "@jupyter-widgets/controls",
            "_model_module_version": "1.5.0",
            "_model_name": "HTMLModel",
            "_view_count": null,
            "_view_module": "@jupyter-widgets/controls",
            "_view_module_version": "1.5.0",
            "_view_name": "HTMLView",
            "description": "",
            "description_tooltip": null,
            "layout": "IPY_MODEL_479076b298db4db895dbcb2499af3b82",
            "placeholder": "​",
            "style": "IPY_MODEL_0017168ef15f4adab4a999860c0e1646",
            "value": " 3592/3592 [00:41&lt;00:00, 66.45it/s]"
          }
        },
        "b5e7b51b838d472385e793970a625e0c": {
          "model_module": "@jupyter-widgets/base",
          "model_name": "LayoutModel",
          "model_module_version": "1.2.0",
          "state": {
            "_model_module": "@jupyter-widgets/base",
            "_model_module_version": "1.2.0",
            "_model_name": "LayoutModel",
            "_view_count": null,
            "_view_module": "@jupyter-widgets/base",
            "_view_module_version": "1.2.0",
            "_view_name": "LayoutView",
            "align_content": null,
            "align_items": null,
            "align_self": null,
            "border": null,
            "bottom": null,
            "display": null,
            "flex": null,
            "flex_flow": null,
            "grid_area": null,
            "grid_auto_columns": null,
            "grid_auto_flow": null,
            "grid_auto_rows": null,
            "grid_column": null,
            "grid_gap": null,
            "grid_row": null,
            "grid_template_areas": null,
            "grid_template_columns": null,
            "grid_template_rows": null,
            "height": null,
            "justify_content": null,
            "justify_items": null,
            "left": null,
            "margin": null,
            "max_height": null,
            "max_width": null,
            "min_height": null,
            "min_width": null,
            "object_fit": null,
            "object_position": null,
            "order": null,
            "overflow": null,
            "overflow_x": null,
            "overflow_y": null,
            "padding": null,
            "right": null,
            "top": null,
            "visibility": null,
            "width": null
          }
        },
        "6b13c9b9510c4a00ac39348701ca8965": {
          "model_module": "@jupyter-widgets/base",
          "model_name": "LayoutModel",
          "model_module_version": "1.2.0",
          "state": {
            "_model_module": "@jupyter-widgets/base",
            "_model_module_version": "1.2.0",
            "_model_name": "LayoutModel",
            "_view_count": null,
            "_view_module": "@jupyter-widgets/base",
            "_view_module_version": "1.2.0",
            "_view_name": "LayoutView",
            "align_content": null,
            "align_items": null,
            "align_self": null,
            "border": null,
            "bottom": null,
            "display": null,
            "flex": null,
            "flex_flow": null,
            "grid_area": null,
            "grid_auto_columns": null,
            "grid_auto_flow": null,
            "grid_auto_rows": null,
            "grid_column": null,
            "grid_gap": null,
            "grid_row": null,
            "grid_template_areas": null,
            "grid_template_columns": null,
            "grid_template_rows": null,
            "height": null,
            "justify_content": null,
            "justify_items": null,
            "left": null,
            "margin": null,
            "max_height": null,
            "max_width": null,
            "min_height": null,
            "min_width": null,
            "object_fit": null,
            "object_position": null,
            "order": null,
            "overflow": null,
            "overflow_x": null,
            "overflow_y": null,
            "padding": null,
            "right": null,
            "top": null,
            "visibility": null,
            "width": null
          }
        },
        "fc1e3aab1ba24883be8f42e5414581c3": {
          "model_module": "@jupyter-widgets/controls",
          "model_name": "DescriptionStyleModel",
          "model_module_version": "1.5.0",
          "state": {
            "_model_module": "@jupyter-widgets/controls",
            "_model_module_version": "1.5.0",
            "_model_name": "DescriptionStyleModel",
            "_view_count": null,
            "_view_module": "@jupyter-widgets/base",
            "_view_module_version": "1.2.0",
            "_view_name": "StyleView",
            "description_width": ""
          }
        },
        "6e13f49eba8647b3bf1f7123fdfe6b34": {
          "model_module": "@jupyter-widgets/base",
          "model_name": "LayoutModel",
          "model_module_version": "1.2.0",
          "state": {
            "_model_module": "@jupyter-widgets/base",
            "_model_module_version": "1.2.0",
            "_model_name": "LayoutModel",
            "_view_count": null,
            "_view_module": "@jupyter-widgets/base",
            "_view_module_version": "1.2.0",
            "_view_name": "LayoutView",
            "align_content": null,
            "align_items": null,
            "align_self": null,
            "border": null,
            "bottom": null,
            "display": null,
            "flex": null,
            "flex_flow": null,
            "grid_area": null,
            "grid_auto_columns": null,
            "grid_auto_flow": null,
            "grid_auto_rows": null,
            "grid_column": null,
            "grid_gap": null,
            "grid_row": null,
            "grid_template_areas": null,
            "grid_template_columns": null,
            "grid_template_rows": null,
            "height": null,
            "justify_content": null,
            "justify_items": null,
            "left": null,
            "margin": null,
            "max_height": null,
            "max_width": null,
            "min_height": null,
            "min_width": null,
            "object_fit": null,
            "object_position": null,
            "order": null,
            "overflow": null,
            "overflow_x": null,
            "overflow_y": null,
            "padding": null,
            "right": null,
            "top": null,
            "visibility": null,
            "width": null
          }
        },
        "35601819b24c44d4b5bb0f7f39c3ef90": {
          "model_module": "@jupyter-widgets/controls",
          "model_name": "ProgressStyleModel",
          "model_module_version": "1.5.0",
          "state": {
            "_model_module": "@jupyter-widgets/controls",
            "_model_module_version": "1.5.0",
            "_model_name": "ProgressStyleModel",
            "_view_count": null,
            "_view_module": "@jupyter-widgets/base",
            "_view_module_version": "1.2.0",
            "_view_name": "StyleView",
            "bar_color": null,
            "description_width": ""
          }
        },
        "479076b298db4db895dbcb2499af3b82": {
          "model_module": "@jupyter-widgets/base",
          "model_name": "LayoutModel",
          "model_module_version": "1.2.0",
          "state": {
            "_model_module": "@jupyter-widgets/base",
            "_model_module_version": "1.2.0",
            "_model_name": "LayoutModel",
            "_view_count": null,
            "_view_module": "@jupyter-widgets/base",
            "_view_module_version": "1.2.0",
            "_view_name": "LayoutView",
            "align_content": null,
            "align_items": null,
            "align_self": null,
            "border": null,
            "bottom": null,
            "display": null,
            "flex": null,
            "flex_flow": null,
            "grid_area": null,
            "grid_auto_columns": null,
            "grid_auto_flow": null,
            "grid_auto_rows": null,
            "grid_column": null,
            "grid_gap": null,
            "grid_row": null,
            "grid_template_areas": null,
            "grid_template_columns": null,
            "grid_template_rows": null,
            "height": null,
            "justify_content": null,
            "justify_items": null,
            "left": null,
            "margin": null,
            "max_height": null,
            "max_width": null,
            "min_height": null,
            "min_width": null,
            "object_fit": null,
            "object_position": null,
            "order": null,
            "overflow": null,
            "overflow_x": null,
            "overflow_y": null,
            "padding": null,
            "right": null,
            "top": null,
            "visibility": null,
            "width": null
          }
        },
        "0017168ef15f4adab4a999860c0e1646": {
          "model_module": "@jupyter-widgets/controls",
          "model_name": "DescriptionStyleModel",
          "model_module_version": "1.5.0",
          "state": {
            "_model_module": "@jupyter-widgets/controls",
            "_model_module_version": "1.5.0",
            "_model_name": "DescriptionStyleModel",
            "_view_count": null,
            "_view_module": "@jupyter-widgets/base",
            "_view_module_version": "1.2.0",
            "_view_name": "StyleView",
            "description_width": ""
          }
        },
        "7478a9263e6e4b889d752a5d21fb3e75": {
          "model_module": "@jupyter-widgets/controls",
          "model_name": "HBoxModel",
          "model_module_version": "1.5.0",
          "state": {
            "_dom_classes": [],
            "_model_module": "@jupyter-widgets/controls",
            "_model_module_version": "1.5.0",
            "_model_name": "HBoxModel",
            "_view_count": null,
            "_view_module": "@jupyter-widgets/controls",
            "_view_module_version": "1.5.0",
            "_view_name": "HBoxView",
            "box_style": "",
            "children": [
              "IPY_MODEL_f17f8669004246cd93bd945e6459bf72",
              "IPY_MODEL_5391b40618d14edab842a867de862298",
              "IPY_MODEL_e47722a7a0b345c49b26acf074e48c2c"
            ],
            "layout": "IPY_MODEL_fc7f1d47c3f046148cb0dcfc2d23c17f"
          }
        },
        "f17f8669004246cd93bd945e6459bf72": {
          "model_module": "@jupyter-widgets/controls",
          "model_name": "HTMLModel",
          "model_module_version": "1.5.0",
          "state": {
            "_dom_classes": [],
            "_model_module": "@jupyter-widgets/controls",
            "_model_module_version": "1.5.0",
            "_model_name": "HTMLModel",
            "_view_count": null,
            "_view_module": "@jupyter-widgets/controls",
            "_view_module_version": "1.5.0",
            "_view_name": "HTMLView",
            "description": "",
            "description_tooltip": null,
            "layout": "IPY_MODEL_5c56d3fdd44a4d6d8a7f44a97ae06b56",
            "placeholder": "​",
            "style": "IPY_MODEL_ba0fc8014e824e7e8054b9033504ed7b",
            "value": "epoch : 6. loss : 24.743449393651538: 100%"
          }
        },
        "5391b40618d14edab842a867de862298": {
          "model_module": "@jupyter-widgets/controls",
          "model_name": "FloatProgressModel",
          "model_module_version": "1.5.0",
          "state": {
            "_dom_classes": [],
            "_model_module": "@jupyter-widgets/controls",
            "_model_module_version": "1.5.0",
            "_model_name": "FloatProgressModel",
            "_view_count": null,
            "_view_module": "@jupyter-widgets/controls",
            "_view_module_version": "1.5.0",
            "_view_name": "ProgressView",
            "bar_style": "success",
            "description": "",
            "description_tooltip": null,
            "layout": "IPY_MODEL_d7d4c0da8e72476a9f7d9031242f842a",
            "max": 3592,
            "min": 0,
            "orientation": "horizontal",
            "style": "IPY_MODEL_36fa2a1d675a4f609b2ba2e9a4a4a522",
            "value": 3592
          }
        },
        "e47722a7a0b345c49b26acf074e48c2c": {
          "model_module": "@jupyter-widgets/controls",
          "model_name": "HTMLModel",
          "model_module_version": "1.5.0",
          "state": {
            "_dom_classes": [],
            "_model_module": "@jupyter-widgets/controls",
            "_model_module_version": "1.5.0",
            "_model_name": "HTMLModel",
            "_view_count": null,
            "_view_module": "@jupyter-widgets/controls",
            "_view_module_version": "1.5.0",
            "_view_name": "HTMLView",
            "description": "",
            "description_tooltip": null,
            "layout": "IPY_MODEL_0dc2608fa66a4c70b23c504f90eb03fc",
            "placeholder": "​",
            "style": "IPY_MODEL_c7840727c1774842a17b69600969377c",
            "value": " 3592/3592 [00:42&lt;00:00, 65.29it/s]"
          }
        },
        "fc7f1d47c3f046148cb0dcfc2d23c17f": {
          "model_module": "@jupyter-widgets/base",
          "model_name": "LayoutModel",
          "model_module_version": "1.2.0",
          "state": {
            "_model_module": "@jupyter-widgets/base",
            "_model_module_version": "1.2.0",
            "_model_name": "LayoutModel",
            "_view_count": null,
            "_view_module": "@jupyter-widgets/base",
            "_view_module_version": "1.2.0",
            "_view_name": "LayoutView",
            "align_content": null,
            "align_items": null,
            "align_self": null,
            "border": null,
            "bottom": null,
            "display": null,
            "flex": null,
            "flex_flow": null,
            "grid_area": null,
            "grid_auto_columns": null,
            "grid_auto_flow": null,
            "grid_auto_rows": null,
            "grid_column": null,
            "grid_gap": null,
            "grid_row": null,
            "grid_template_areas": null,
            "grid_template_columns": null,
            "grid_template_rows": null,
            "height": null,
            "justify_content": null,
            "justify_items": null,
            "left": null,
            "margin": null,
            "max_height": null,
            "max_width": null,
            "min_height": null,
            "min_width": null,
            "object_fit": null,
            "object_position": null,
            "order": null,
            "overflow": null,
            "overflow_x": null,
            "overflow_y": null,
            "padding": null,
            "right": null,
            "top": null,
            "visibility": null,
            "width": null
          }
        },
        "5c56d3fdd44a4d6d8a7f44a97ae06b56": {
          "model_module": "@jupyter-widgets/base",
          "model_name": "LayoutModel",
          "model_module_version": "1.2.0",
          "state": {
            "_model_module": "@jupyter-widgets/base",
            "_model_module_version": "1.2.0",
            "_model_name": "LayoutModel",
            "_view_count": null,
            "_view_module": "@jupyter-widgets/base",
            "_view_module_version": "1.2.0",
            "_view_name": "LayoutView",
            "align_content": null,
            "align_items": null,
            "align_self": null,
            "border": null,
            "bottom": null,
            "display": null,
            "flex": null,
            "flex_flow": null,
            "grid_area": null,
            "grid_auto_columns": null,
            "grid_auto_flow": null,
            "grid_auto_rows": null,
            "grid_column": null,
            "grid_gap": null,
            "grid_row": null,
            "grid_template_areas": null,
            "grid_template_columns": null,
            "grid_template_rows": null,
            "height": null,
            "justify_content": null,
            "justify_items": null,
            "left": null,
            "margin": null,
            "max_height": null,
            "max_width": null,
            "min_height": null,
            "min_width": null,
            "object_fit": null,
            "object_position": null,
            "order": null,
            "overflow": null,
            "overflow_x": null,
            "overflow_y": null,
            "padding": null,
            "right": null,
            "top": null,
            "visibility": null,
            "width": null
          }
        },
        "ba0fc8014e824e7e8054b9033504ed7b": {
          "model_module": "@jupyter-widgets/controls",
          "model_name": "DescriptionStyleModel",
          "model_module_version": "1.5.0",
          "state": {
            "_model_module": "@jupyter-widgets/controls",
            "_model_module_version": "1.5.0",
            "_model_name": "DescriptionStyleModel",
            "_view_count": null,
            "_view_module": "@jupyter-widgets/base",
            "_view_module_version": "1.2.0",
            "_view_name": "StyleView",
            "description_width": ""
          }
        },
        "d7d4c0da8e72476a9f7d9031242f842a": {
          "model_module": "@jupyter-widgets/base",
          "model_name": "LayoutModel",
          "model_module_version": "1.2.0",
          "state": {
            "_model_module": "@jupyter-widgets/base",
            "_model_module_version": "1.2.0",
            "_model_name": "LayoutModel",
            "_view_count": null,
            "_view_module": "@jupyter-widgets/base",
            "_view_module_version": "1.2.0",
            "_view_name": "LayoutView",
            "align_content": null,
            "align_items": null,
            "align_self": null,
            "border": null,
            "bottom": null,
            "display": null,
            "flex": null,
            "flex_flow": null,
            "grid_area": null,
            "grid_auto_columns": null,
            "grid_auto_flow": null,
            "grid_auto_rows": null,
            "grid_column": null,
            "grid_gap": null,
            "grid_row": null,
            "grid_template_areas": null,
            "grid_template_columns": null,
            "grid_template_rows": null,
            "height": null,
            "justify_content": null,
            "justify_items": null,
            "left": null,
            "margin": null,
            "max_height": null,
            "max_width": null,
            "min_height": null,
            "min_width": null,
            "object_fit": null,
            "object_position": null,
            "order": null,
            "overflow": null,
            "overflow_x": null,
            "overflow_y": null,
            "padding": null,
            "right": null,
            "top": null,
            "visibility": null,
            "width": null
          }
        },
        "36fa2a1d675a4f609b2ba2e9a4a4a522": {
          "model_module": "@jupyter-widgets/controls",
          "model_name": "ProgressStyleModel",
          "model_module_version": "1.5.0",
          "state": {
            "_model_module": "@jupyter-widgets/controls",
            "_model_module_version": "1.5.0",
            "_model_name": "ProgressStyleModel",
            "_view_count": null,
            "_view_module": "@jupyter-widgets/base",
            "_view_module_version": "1.2.0",
            "_view_name": "StyleView",
            "bar_color": null,
            "description_width": ""
          }
        },
        "0dc2608fa66a4c70b23c504f90eb03fc": {
          "model_module": "@jupyter-widgets/base",
          "model_name": "LayoutModel",
          "model_module_version": "1.2.0",
          "state": {
            "_model_module": "@jupyter-widgets/base",
            "_model_module_version": "1.2.0",
            "_model_name": "LayoutModel",
            "_view_count": null,
            "_view_module": "@jupyter-widgets/base",
            "_view_module_version": "1.2.0",
            "_view_name": "LayoutView",
            "align_content": null,
            "align_items": null,
            "align_self": null,
            "border": null,
            "bottom": null,
            "display": null,
            "flex": null,
            "flex_flow": null,
            "grid_area": null,
            "grid_auto_columns": null,
            "grid_auto_flow": null,
            "grid_auto_rows": null,
            "grid_column": null,
            "grid_gap": null,
            "grid_row": null,
            "grid_template_areas": null,
            "grid_template_columns": null,
            "grid_template_rows": null,
            "height": null,
            "justify_content": null,
            "justify_items": null,
            "left": null,
            "margin": null,
            "max_height": null,
            "max_width": null,
            "min_height": null,
            "min_width": null,
            "object_fit": null,
            "object_position": null,
            "order": null,
            "overflow": null,
            "overflow_x": null,
            "overflow_y": null,
            "padding": null,
            "right": null,
            "top": null,
            "visibility": null,
            "width": null
          }
        },
        "c7840727c1774842a17b69600969377c": {
          "model_module": "@jupyter-widgets/controls",
          "model_name": "DescriptionStyleModel",
          "model_module_version": "1.5.0",
          "state": {
            "_model_module": "@jupyter-widgets/controls",
            "_model_module_version": "1.5.0",
            "_model_name": "DescriptionStyleModel",
            "_view_count": null,
            "_view_module": "@jupyter-widgets/base",
            "_view_module_version": "1.2.0",
            "_view_name": "StyleView",
            "description_width": ""
          }
        },
        "b59829c318d14c308ad87ce6fa46747d": {
          "model_module": "@jupyter-widgets/controls",
          "model_name": "HBoxModel",
          "model_module_version": "1.5.0",
          "state": {
            "_dom_classes": [],
            "_model_module": "@jupyter-widgets/controls",
            "_model_module_version": "1.5.0",
            "_model_name": "HBoxModel",
            "_view_count": null,
            "_view_module": "@jupyter-widgets/controls",
            "_view_module_version": "1.5.0",
            "_view_name": "HBoxView",
            "box_style": "",
            "children": [
              "IPY_MODEL_18579c2e66c94a8bbe5b65f808ecdaae",
              "IPY_MODEL_7f57a36d049e46ab8f12150e4c72b2d6",
              "IPY_MODEL_dda3b6c4759d43af891776b61ddb2ebf"
            ],
            "layout": "IPY_MODEL_f34ce1b96c7347db8ba6ba9925aaecec"
          }
        },
        "18579c2e66c94a8bbe5b65f808ecdaae": {
          "model_module": "@jupyter-widgets/controls",
          "model_name": "HTMLModel",
          "model_module_version": "1.5.0",
          "state": {
            "_dom_classes": [],
            "_model_module": "@jupyter-widgets/controls",
            "_model_module_version": "1.5.0",
            "_model_name": "HTMLModel",
            "_view_count": null,
            "_view_module": "@jupyter-widgets/controls",
            "_view_module_version": "1.5.0",
            "_view_name": "HTMLView",
            "description": "",
            "description_tooltip": null,
            "layout": "IPY_MODEL_7adec5c7669a42c6b847189113cb28ec",
            "placeholder": "​",
            "style": "IPY_MODEL_23b6a6f5da774813b791476e0f7950e9",
            "value": "epoch : 7. loss : 20.861719151382193:  89%"
          }
        },
        "7f57a36d049e46ab8f12150e4c72b2d6": {
          "model_module": "@jupyter-widgets/controls",
          "model_name": "FloatProgressModel",
          "model_module_version": "1.5.0",
          "state": {
            "_dom_classes": [],
            "_model_module": "@jupyter-widgets/controls",
            "_model_module_version": "1.5.0",
            "_model_name": "FloatProgressModel",
            "_view_count": null,
            "_view_module": "@jupyter-widgets/controls",
            "_view_module_version": "1.5.0",
            "_view_name": "ProgressView",
            "bar_style": "",
            "description": "",
            "description_tooltip": null,
            "layout": "IPY_MODEL_c1cc0337d9114a5889cef39626610a34",
            "max": 3592,
            "min": 0,
            "orientation": "horizontal",
            "style": "IPY_MODEL_cc49c711e9c74416804003f534bde17c",
            "value": 3184
          }
        },
        "dda3b6c4759d43af891776b61ddb2ebf": {
          "model_module": "@jupyter-widgets/controls",
          "model_name": "HTMLModel",
          "model_module_version": "1.5.0",
          "state": {
            "_dom_classes": [],
            "_model_module": "@jupyter-widgets/controls",
            "_model_module_version": "1.5.0",
            "_model_name": "HTMLModel",
            "_view_count": null,
            "_view_module": "@jupyter-widgets/controls",
            "_view_module_version": "1.5.0",
            "_view_name": "HTMLView",
            "description": "",
            "description_tooltip": null,
            "layout": "IPY_MODEL_09b29df3766a4ed1a484d9a3bb507fce",
            "placeholder": "​",
            "style": "IPY_MODEL_f11e981df72b4ba89904821c73a96fb6",
            "value": " 3184/3592 [00:40&lt;00:05, 73.64it/s]"
          }
        },
        "f34ce1b96c7347db8ba6ba9925aaecec": {
          "model_module": "@jupyter-widgets/base",
          "model_name": "LayoutModel",
          "model_module_version": "1.2.0",
          "state": {
            "_model_module": "@jupyter-widgets/base",
            "_model_module_version": "1.2.0",
            "_model_name": "LayoutModel",
            "_view_count": null,
            "_view_module": "@jupyter-widgets/base",
            "_view_module_version": "1.2.0",
            "_view_name": "LayoutView",
            "align_content": null,
            "align_items": null,
            "align_self": null,
            "border": null,
            "bottom": null,
            "display": null,
            "flex": null,
            "flex_flow": null,
            "grid_area": null,
            "grid_auto_columns": null,
            "grid_auto_flow": null,
            "grid_auto_rows": null,
            "grid_column": null,
            "grid_gap": null,
            "grid_row": null,
            "grid_template_areas": null,
            "grid_template_columns": null,
            "grid_template_rows": null,
            "height": null,
            "justify_content": null,
            "justify_items": null,
            "left": null,
            "margin": null,
            "max_height": null,
            "max_width": null,
            "min_height": null,
            "min_width": null,
            "object_fit": null,
            "object_position": null,
            "order": null,
            "overflow": null,
            "overflow_x": null,
            "overflow_y": null,
            "padding": null,
            "right": null,
            "top": null,
            "visibility": null,
            "width": null
          }
        },
        "7adec5c7669a42c6b847189113cb28ec": {
          "model_module": "@jupyter-widgets/base",
          "model_name": "LayoutModel",
          "model_module_version": "1.2.0",
          "state": {
            "_model_module": "@jupyter-widgets/base",
            "_model_module_version": "1.2.0",
            "_model_name": "LayoutModel",
            "_view_count": null,
            "_view_module": "@jupyter-widgets/base",
            "_view_module_version": "1.2.0",
            "_view_name": "LayoutView",
            "align_content": null,
            "align_items": null,
            "align_self": null,
            "border": null,
            "bottom": null,
            "display": null,
            "flex": null,
            "flex_flow": null,
            "grid_area": null,
            "grid_auto_columns": null,
            "grid_auto_flow": null,
            "grid_auto_rows": null,
            "grid_column": null,
            "grid_gap": null,
            "grid_row": null,
            "grid_template_areas": null,
            "grid_template_columns": null,
            "grid_template_rows": null,
            "height": null,
            "justify_content": null,
            "justify_items": null,
            "left": null,
            "margin": null,
            "max_height": null,
            "max_width": null,
            "min_height": null,
            "min_width": null,
            "object_fit": null,
            "object_position": null,
            "order": null,
            "overflow": null,
            "overflow_x": null,
            "overflow_y": null,
            "padding": null,
            "right": null,
            "top": null,
            "visibility": null,
            "width": null
          }
        },
        "23b6a6f5da774813b791476e0f7950e9": {
          "model_module": "@jupyter-widgets/controls",
          "model_name": "DescriptionStyleModel",
          "model_module_version": "1.5.0",
          "state": {
            "_model_module": "@jupyter-widgets/controls",
            "_model_module_version": "1.5.0",
            "_model_name": "DescriptionStyleModel",
            "_view_count": null,
            "_view_module": "@jupyter-widgets/base",
            "_view_module_version": "1.2.0",
            "_view_name": "StyleView",
            "description_width": ""
          }
        },
        "c1cc0337d9114a5889cef39626610a34": {
          "model_module": "@jupyter-widgets/base",
          "model_name": "LayoutModel",
          "model_module_version": "1.2.0",
          "state": {
            "_model_module": "@jupyter-widgets/base",
            "_model_module_version": "1.2.0",
            "_model_name": "LayoutModel",
            "_view_count": null,
            "_view_module": "@jupyter-widgets/base",
            "_view_module_version": "1.2.0",
            "_view_name": "LayoutView",
            "align_content": null,
            "align_items": null,
            "align_self": null,
            "border": null,
            "bottom": null,
            "display": null,
            "flex": null,
            "flex_flow": null,
            "grid_area": null,
            "grid_auto_columns": null,
            "grid_auto_flow": null,
            "grid_auto_rows": null,
            "grid_column": null,
            "grid_gap": null,
            "grid_row": null,
            "grid_template_areas": null,
            "grid_template_columns": null,
            "grid_template_rows": null,
            "height": null,
            "justify_content": null,
            "justify_items": null,
            "left": null,
            "margin": null,
            "max_height": null,
            "max_width": null,
            "min_height": null,
            "min_width": null,
            "object_fit": null,
            "object_position": null,
            "order": null,
            "overflow": null,
            "overflow_x": null,
            "overflow_y": null,
            "padding": null,
            "right": null,
            "top": null,
            "visibility": null,
            "width": null
          }
        },
        "cc49c711e9c74416804003f534bde17c": {
          "model_module": "@jupyter-widgets/controls",
          "model_name": "ProgressStyleModel",
          "model_module_version": "1.5.0",
          "state": {
            "_model_module": "@jupyter-widgets/controls",
            "_model_module_version": "1.5.0",
            "_model_name": "ProgressStyleModel",
            "_view_count": null,
            "_view_module": "@jupyter-widgets/base",
            "_view_module_version": "1.2.0",
            "_view_name": "StyleView",
            "bar_color": null,
            "description_width": ""
          }
        },
        "09b29df3766a4ed1a484d9a3bb507fce": {
          "model_module": "@jupyter-widgets/base",
          "model_name": "LayoutModel",
          "model_module_version": "1.2.0",
          "state": {
            "_model_module": "@jupyter-widgets/base",
            "_model_module_version": "1.2.0",
            "_model_name": "LayoutModel",
            "_view_count": null,
            "_view_module": "@jupyter-widgets/base",
            "_view_module_version": "1.2.0",
            "_view_name": "LayoutView",
            "align_content": null,
            "align_items": null,
            "align_self": null,
            "border": null,
            "bottom": null,
            "display": null,
            "flex": null,
            "flex_flow": null,
            "grid_area": null,
            "grid_auto_columns": null,
            "grid_auto_flow": null,
            "grid_auto_rows": null,
            "grid_column": null,
            "grid_gap": null,
            "grid_row": null,
            "grid_template_areas": null,
            "grid_template_columns": null,
            "grid_template_rows": null,
            "height": null,
            "justify_content": null,
            "justify_items": null,
            "left": null,
            "margin": null,
            "max_height": null,
            "max_width": null,
            "min_height": null,
            "min_width": null,
            "object_fit": null,
            "object_position": null,
            "order": null,
            "overflow": null,
            "overflow_x": null,
            "overflow_y": null,
            "padding": null,
            "right": null,
            "top": null,
            "visibility": null,
            "width": null
          }
        },
        "f11e981df72b4ba89904821c73a96fb6": {
          "model_module": "@jupyter-widgets/controls",
          "model_name": "DescriptionStyleModel",
          "model_module_version": "1.5.0",
          "state": {
            "_model_module": "@jupyter-widgets/controls",
            "_model_module_version": "1.5.0",
            "_model_name": "DescriptionStyleModel",
            "_view_count": null,
            "_view_module": "@jupyter-widgets/base",
            "_view_module_version": "1.2.0",
            "_view_name": "StyleView",
            "description_width": ""
          }
        }
      }
    }
  },
  "cells": [
    {
      "cell_type": "markdown",
      "metadata": {
        "id": "view-in-github",
        "colab_type": "text"
      },
      "source": [
        "<a href=\"https://colab.research.google.com/github/dla9944/God_damn_deeplearning/blob/master/seq2seq_05_%EC%98%81%EC%96%B4%EB%A5%BC_%ED%95%9C%EA%B8%80%EB%A1%9C.ipynb\" target=\"_parent\"><img src=\"https://colab.research.google.com/assets/colab-badge.svg\" alt=\"Open In Colab\"/></a>"
      ]
    },
    {
      "cell_type": "markdown",
      "source": [
        "# 데이터 불러오기"
      ],
      "metadata": {
        "id": "q1np-5pHAPwX"
      }
    },
    {
      "cell_type": "code",
      "source": [
        "import pandas as pd"
      ],
      "metadata": {
        "id": "cSlCwXmkAqJe"
      },
      "execution_count": 1,
      "outputs": []
    },
    {
      "cell_type": "code",
      "execution_count": 2,
      "metadata": {
        "id": "vVfGDvizYqPY",
        "colab": {
          "base_uri": "https://localhost:8080/"
        },
        "outputId": "d18f936b-1bba-4861-b8f6-5752ea29bdb7"
      },
      "outputs": [
        {
          "output_type": "stream",
          "name": "stdout",
          "text": [
            "--2023-01-19 08:25:07--  https://github.com/bigdata-young/ai_26th/raw/main/data_dl/corpus.txt\n",
            "Resolving github.com (github.com)... 140.82.114.4\n",
            "Connecting to github.com (github.com)|140.82.114.4|:443... connected.\n",
            "HTTP request sent, awaiting response... 302 Found\n",
            "Location: https://raw.githubusercontent.com/bigdata-young/ai_26th/main/data_dl/corpus.txt [following]\n",
            "--2023-01-19 08:25:07--  https://raw.githubusercontent.com/bigdata-young/ai_26th/main/data_dl/corpus.txt\n",
            "Resolving raw.githubusercontent.com (raw.githubusercontent.com)... 185.199.110.133, 185.199.108.133, 185.199.109.133, ...\n",
            "Connecting to raw.githubusercontent.com (raw.githubusercontent.com)|185.199.110.133|:443... connected.\n",
            "HTTP request sent, awaiting response... 200 OK\n",
            "Length: 253511 (248K) [text/plain]\n",
            "Saving to: ‘corpus.txt’\n",
            "\n",
            "corpus.txt          100%[===================>] 247.57K  --.-KB/s    in 0.03s   \n",
            "\n",
            "2023-01-19 08:25:08 (7.85 MB/s) - ‘corpus.txt’ saved [253511/253511]\n",
            "\n"
          ]
        }
      ],
      "source": [
        "# Tab-delimited Bilingual Sentence Pairs\n",
        "# 출처 : http://www.manythings.org/anki\n",
        "# https://github.com/bigdata-young/ai_26th/raw/main/data_dl/corpus.txt\n",
        "\n",
        "!wget https://github.com/bigdata-young/ai_26th/raw/main/data_dl/corpus.txt"
      ]
    },
    {
      "cell_type": "code",
      "source": [
        "# text 파일 전처리\n",
        "\n",
        "from string import punctuation\n",
        "import string"
      ],
      "metadata": {
        "id": "tux9MsRyAvg4"
      },
      "execution_count": 3,
      "outputs": []
    },
    {
      "cell_type": "code",
      "source": [
        "# 특수문자를 지운 문장들을 받아줄 리스트\n",
        "l = []\n",
        "\n",
        "# open(경로, 'r', encoding = 인코딩 방식) : 파일을 읽어줌. \n",
        "# as f : open을 통해 읽어들어온 파일을 f라는 이름의 변수에 할당\n",
        "with open('./corpus.txt', 'r', encoding = 'utf-8') as f:\n",
        "     lines = f.read().split('\\n')\n",
        "     for line in lines: # 문장들\n",
        "         # 특수문자를 지우고 모든 글자를 소문자로 변경\n",
        "         txt = \"\".join(v for v in line if not v in string.punctuation).lower()\n",
        "         l.append(txt)\n",
        "         "
      ],
      "metadata": {
        "id": "-zbD6_PXBA_D"
      },
      "execution_count": 4,
      "outputs": []
    },
    {
      "cell_type": "code",
      "source": [
        "l[:5]"
      ],
      "metadata": {
        "colab": {
          "base_uri": "https://localhost:8080/"
        },
        "id": "SYizrs3vDB2F",
        "outputId": "e9bfd4e7-4dd6-4283-eb30-7ddf96a40f67"
      },
      "execution_count": 5,
      "outputs": [
        {
          "output_type": "execute_result",
          "data": {
            "text/plain": [
              "['go\\t가', 'hi\\t안녕', 'run\\t뛰어', 'run\\t뛰어', 'who\\t누구']"
            ]
          },
          "metadata": {},
          "execution_count": 5
        }
      ]
    },
    {
      "cell_type": "markdown",
      "source": [
        "# 학습용 데이터 만들기"
      ],
      "metadata": {
        "id": "2SRE-PX3DDvx"
      }
    },
    {
      "cell_type": "markdown",
      "source": [
        "* 단어가 10개를 넘지 않는 문장들만 사용\n",
        "* 문장을 불러올 때 <EOS> 토큰을 추가해서 문장이 끝났음을 알림\n"
      ],
      "metadata": {
        "id": "btMa9iTiDVOp"
      }
    },
    {
      "cell_type": "markdown",
      "source": [
        "## BOW 만드는 함수 정의"
      ],
      "metadata": {
        "id": "5KJwkwQrDol4"
      }
    },
    {
      "cell_type": "code",
      "source": [
        "import numpy as np\n",
        "import torch\n",
        "\n",
        "from torch.utils.data.dataset import Dataset"
      ],
      "metadata": {
        "id": "hCcrRCpUDq_U"
      },
      "execution_count": 6,
      "outputs": []
    },
    {
      "cell_type": "code",
      "source": [
        "def get_BOW(corpus): # 말뭉치 \n",
        "\n",
        "    # BOW 안에 문장의 시작과 끝을 알리는 SOS(Start of speech)와 EOS(End of speech)토큰 추가\n",
        "    BOW = {'<SOS>' : 0, \"<EOS>\" : 1}\n",
        "\n",
        "    # 문장 내에 단어들을 사용해서 BOW 지정\n",
        "    for line in corpus:\n",
        "        for word in line.split():\n",
        "            if word not in BOW.keys():\n",
        "               BOW[word] = len(BOW.keys())\n",
        "    return BOW"
      ],
      "metadata": {
        "id": "LxxLgdt4D1Pz"
      },
      "execution_count": 7,
      "outputs": []
    },
    {
      "cell_type": "markdown",
      "source": [
        "# 학습용 데이터셋 정의"
      ],
      "metadata": {
        "id": "1HjsIcQgE4cj"
      }
    },
    {
      "cell_type": "code",
      "source": [
        "class Eng2Kor(Dataset):\n",
        "   def __init__(self, path = './corpus.txt'):\n",
        "       super().__init__()\n",
        "\n",
        "       # 영어 문장이 들어가는 변수\n",
        "       self.eng_corpus = [] \n",
        "\n",
        "       # 한글 문장이 들어가는 변수\n",
        "       self.kor_corpus = [] \n",
        "\n",
        "       with open(path, 'r', encoding = 'utf-8') as f:\n",
        "            lines = f.read().split('\\n')\n",
        "            \n",
        "            # 문장들\n",
        "            for line in lines: \n",
        "\n",
        "                # 특수문자를 지우고 모든 글자를 소문자로 변경\n",
        "                txt = \"\".join(v for v in line if not v in string.punctuation).lower()\n",
        "\n",
        "                # \\t로 한글과 영어가 구분된 상황 → tab을 기준으로 engtxt, kortxt로 분리할 예정\n",
        "                engtxt , kortxt = txt.split('\\t')\n",
        "\n",
        "                # 길이가 10 이하인 문장만 학습\n",
        "                if len(engtxt.split()) <= 10 and len(kortxt.split()) <= 10:\n",
        "                    self.eng_corpus.append(engtxt)\n",
        "                    self.kor_corpus.append(kortxt)\n",
        "\n",
        "       # 영어와 한글 문장을 각각 BOW로 변환\n",
        "       self.engBOW = get_BOW(self.eng_corpus)\n",
        "       self.korBOW = get_BOW(self.kor_corpus)\n",
        "\n",
        "   # 문장을 단어별로 분리하는 함수\n",
        "   def gen_seq(self, line):\n",
        "       seq = line.split()\n",
        "       seq.append('<EOS>') # 마지막에 EOS 토큰 추가\n",
        "       return seq\n",
        "   \n",
        "   # 데이터의 갯수 반환하는 함수\n",
        "   def __len__(self):\n",
        "       return len(self.eng_corpus)\n",
        "   \n",
        "   # 데이터와 라벨 지정하는 함수\n",
        "   def __getitem__(self, i):\n",
        "\n",
        "       # eng corpus에서 i를 받아와서 i번째 문장을 seq형태로 변환하고, 단어 사전을 사용해서 고유번호 형태로 변환함\n",
        "       data = np.array([\n",
        "           self.engBOW[txt] for txt in self.gen_seq(self.eng_corpus[i])\n",
        "       ])\n",
        "       label = np.array([\n",
        "           self.korBOW[txt] for txt in self.gen_seq(self.kor_corpus[i])\n",
        "       ])\n",
        "       \n",
        "       # 영어 문장을 한글 문장으로 바꾸는 번역 시작\n",
        "       return data, label"
      ],
      "metadata": {
        "id": "8LJ55W8cE54C"
      },
      "execution_count": 8,
      "outputs": []
    },
    {
      "cell_type": "markdown",
      "source": [
        "# 데이터 로더"
      ],
      "metadata": {
        "id": "2HLGPD32oijM"
      }
    },
    {
      "cell_type": "code",
      "source": [
        "def loader(dataset):\n",
        "    for i in range(len(dataset)):\n",
        "        data, label = dataset[i]\n",
        "\n",
        "        # 데이터와 정답을 반환\n",
        "        yield torch.tensor(data), torch.tensor(label)\n",
        "        # yield : 리턴과 유사. 값을 반복적으로 반환\n"
      ],
      "metadata": {
        "id": "obGSiOG9oWYN"
      },
      "execution_count": 9,
      "outputs": []
    },
    {
      "cell_type": "markdown",
      "source": [
        "# 인코더 정의\n",
        "\n",
        "* 임베딩층, GRU층\n"
      ],
      "metadata": {
        "id": "i8fmw8vKIQ40"
      }
    },
    {
      "cell_type": "code",
      "source": [
        "import torch.nn as nn\n",
        "\n",
        "class Encoder(nn.Module):\n",
        "   def __init__(self, input_size, hidden_size):\n",
        "       super().__init__()\n",
        "\n",
        "       # 임베딩층\n",
        "       self.embedding = nn.Embedding(input_size, hidden_size)\n",
        "\n",
        "       # GRU층\n",
        "       # nn.GRU는 GRU를 계산하는 기능. input_size, hidden_size, num_layers를 받음\n",
        "       self.gru = nn.GRU(hidden_size, hidden_size)    \n",
        "\n",
        "   # x : 입력값 / h : 은닉상태\n",
        "   def forward(self, x, h):\n",
        "       \n",
        "       # 배치 차원과 시계열 차원 추가\n",
        "       x = self.embedding(x).view(1, 1, -1)\n",
        "\n",
        "       output, hidden = self.gru(x, h)\n",
        "\n",
        "       # output은 문장의 특성, hidden은 은닉 상태이다.\n",
        "       return output, hidden"
      ],
      "metadata": {
        "id": "gxpAgtxTricr"
      },
      "execution_count": 16,
      "outputs": []
    },
    {
      "cell_type": "markdown",
      "source": [
        "# 디코더 정의\n",
        "* 임베딩 층\n",
        "* 전결합 층 (ReLU)\n",
        "* 전결합 층 (Softmax)\n",
        "* 내적 곱\n",
        "* GRU"
      ],
      "metadata": {
        "id": "aJCDbIWUtinD"
      }
    },
    {
      "cell_type": "code",
      "source": [
        "class Decoder(nn.Module):\n",
        "   def __init__(self, hidden_size, output_size, dropout_p = 0.1, max_length = 11): # 10개 + <EOS>까지 11개\n",
        "       super().__init__()\n",
        "\n",
        "       # embedding 층\n",
        "       self.embedding = nn.Embedding(output_size, hidden_size)\n",
        "\n",
        "       # attention 가중치를 계산하기 위한 mlp층\n",
        "       self.attention = nn.Linear(hidden_size * 2, max_length)\n",
        "\n",
        "       # 특징 추출을 위한 MLP층\n",
        "       self.context = nn.Linear(hidden_size * 2, hidden_size)\n",
        "\n",
        "       # overfitting을 피하기 위한 drop-out층\n",
        "       self.dropout = nn.Dropout(dropout_p)\n",
        "       \n",
        "       # GRU층\n",
        "       self.gru = nn.GRU(hidden_size, hidden_size)\n",
        "\n",
        "       # 단어 분류를 위한 MLP층\n",
        "       self.out = nn.Linear(hidden_size, output_size)\n",
        "\n",
        "       # 활성화 합수\n",
        "       self.relu = nn.ReLU()\n",
        "       self.softmax = nn.LogSoftmax(dim = 1)\n",
        "\n",
        "       # 소프트맥스 함수에 로그값을 취한 것을 반환합니다.\n",
        "\n",
        "   def forward(self, x, h, encoder_outputs):\n",
        "       x = self.embedding(x).view(1,1,-1)\n",
        "       x = self.dropout(x)\n",
        "\n",
        "       attn_weights = self.softmax(\n",
        "           self.attention(torch.cat((x[0], h[0]), -1))\n",
        "       )\n",
        "\n",
        "       # 어텐션 가중치와 인코더 출력을 내적\n",
        "       # bmm(A, B) : A 크기가 (B, N, M)이고 B크기가 (B, M, K) 일때, (B, N, K)의 출력을 반환함\n",
        "       attn_applied = torch.bmm(\n",
        "           attn_weights.unsqueeze(0), encoder_outputs.unsqueeze(0)\n",
        "       )\n",
        "       # 인코더 각 시점의 중요도\n",
        "       output = torch.cat((x[0], attn_applied[0]), 1)\n",
        "       output = self.context(output).unsqueeze(0)\n",
        "       output = self.relu(output)\n",
        "\n",
        "       # 인코더의 중요도와 현시점에서의 디코더 밀집표현을 합쳐서 MLP층으로 입력시킴\n",
        "       # MLP층은 인코더 각 시점의 중요도와 현시점 디코더의 밀집표현을 동시에 처리함\n",
        "       # GRU층으로 입력\n",
        "       output, hidden = self.gru(output, h)\n",
        "\n",
        "       # 예측된 단어를 출력\n",
        "       output = self.out(output[0])\n",
        "\n",
        "       return output"
      ],
      "metadata": {
        "id": "LNDWKlvDs8oF"
      },
      "execution_count": 18,
      "outputs": []
    },
    {
      "cell_type": "markdown",
      "source": [
        "# 학습 정의"
      ],
      "metadata": {
        "id": "v8I6tJLi3VPH"
      }
    },
    {
      "cell_type": "markdown",
      "source": [
        "## 학습에 필요한 요소 정의"
      ],
      "metadata": {
        "id": "VPeAlajJ46_m"
      }
    },
    {
      "cell_type": "code",
      "source": [
        "import random\n",
        "from tqdm.notebook import tqdm\n",
        "from torch.optim.adam import Adam\n",
        "from torch.optim.adamw import AdamW\n",
        "\n",
        "# 학습에 사용할 프로세서 정의\n",
        "device = 'cuda' if torch.cuda.is_available() else 'cpu'\n",
        "\n",
        "# 학습에 사용할 데이터셋\n",
        "dataset = Eng2Kor()\n",
        "\n",
        "# 인코더, 디코더 정의\n",
        "encoder = Encoder(input_size = len(dataset.engBOW), hidden_size = 64).to(device)\n",
        "decoder = Decoder(64, len(dataset.korBOW), dropout_p = 0.1).to(device)\n",
        "\n",
        "# 인코더와 디코더 학습을 위한 최적화 함수 정의\n",
        "encoder_optimizer = Adam(encoder.parameters(), lr = 0.001)\n",
        "decoder_optimizer = Adam(encoder.parameters(), lr = 0.001)"
      ],
      "metadata": {
        "id": "Au92i5ti5DLM"
      },
      "execution_count": 40,
      "outputs": []
    },
    {
      "cell_type": "code",
      "source": [
        "device"
      ],
      "metadata": {
        "colab": {
          "base_uri": "https://localhost:8080/",
          "height": 35
        },
        "id": "wnIyFgN_59Cx",
        "outputId": "60c50dba-05b2-43a5-be3a-ba6f5997ca00"
      },
      "execution_count": 41,
      "outputs": [
        {
          "output_type": "execute_result",
          "data": {
            "text/plain": [
              "'cuda'"
            ],
            "application/vnd.google.colaboratory.intrinsic+json": {
              "type": "string"
            }
          },
          "metadata": {},
          "execution_count": 41
        }
      ]
    },
    {
      "cell_type": "markdown",
      "source": [
        "# 학습 루프 정의"
      ],
      "metadata": {
        "id": "bfKhDT_s6jB9"
      }
    },
    {
      "cell_type": "code",
      "source": [
        "EPOCHS = 10\n",
        "for epoch in range(EPOCHS):\n",
        "    iterator = tqdm(loader(dataset), total = len(dataset))\n",
        "    total_loss = 0\n",
        "\n",
        "    for data, label in iterator:\n",
        "        data = torch.tensor(data, dtype = torch.long).to(device)\n",
        "        label = torch.tensor(label, dtype = torch.long).to(device)\n",
        "\n",
        "        # 인코더의 초기 hidden state\n",
        "        encoder_hidden = torch.zeros(1, 1, 64).to(device)\n",
        "\n",
        "        # encoder의 모든 시점의 출력을 저장하는 변수\n",
        "        encoder_outputs = torch.zeros(11, 64).to(device)\n",
        "\n",
        "        encoder_optimizer.zero_grad()\n",
        "        decoder_optimizer.zero_grad()\n",
        "\n",
        "        # loss function\n",
        "        loss = 0\n",
        "\n",
        "        # encoder 동작\n",
        "        # data는 토큰화된 동작으로, 단어들의 리스트\n",
        "        for ei in range(len(data)):\n",
        "\n",
        "            # encoder의 index : ei/ 한 단어씩 encoder에 넣어줌\n",
        "            encoder_output, encoder_hidden = encoder(data[ei], encoder_hidden)\n",
        "\n",
        "            # encoder의 은닉상태를 저장함\n",
        "            encoder_outputs[ei] = encoder_output[0, 0]\n",
        "\n",
        "        decoder_input = torch.tensor([[0]]).to(device)\n",
        "\n",
        "        # 인코더의 마지막 은닉 상태를 디코더의 초기 은닉 상태로 지정\n",
        "        decoder_hidden = encoder_hidden\n",
        "\n",
        "        # decoder 동작\n",
        "        # Teacher Forcing : seq2seq 구조에서 현 시점의 입력을 모델의 예측값으로 사용하는 대신, 정답을 이용하는 방법\n",
        "        use_teacher_forcing = True if random.random() < 0.5 else False\n",
        "        \n",
        "        if use_teacher_forcing:\n",
        "            for di in range(len(label)):\n",
        "                decoder_output = decoder(\n",
        "                    decoder_input, decoder_hidden, encoder_outputs)\n",
        "                \n",
        "                target = torch.tensor(label[di], dtype = torch.long).to(device)\n",
        "                target = torch.unsqueeze(target, dim = 0).to(device)\n",
        "                loss += nn.CrossEntropyLoss()(decoder_output, target)\n",
        "                decoder_input = target\n",
        "        else:\n",
        "            for di in range(len(label)):\n",
        "                decoder_output = decoder(\n",
        "                    decoder_input, decoder_hidden, encoder_outputs)\n",
        "                \n",
        "                # 가장 높은 확률을 갖는 단어의 인덱스 topi\n",
        "                topv, topi = decoder_output.topk(1)\n",
        "                # 텐서을 값으로 변환\n",
        "                decoder_input = topi.squeeze().detach()\n",
        "\n",
        "                # 디코더의 예측값을 다음 시점의 입력으로 넣어줌\n",
        "                target = torch.tensor(label[di], dtype = torch.long).to(device)\n",
        "                target = torch.unsqueeze(target, dim = 0).to(device)\n",
        "                loss += nn.CrossEntropyLoss()(decoder_output, target)\n",
        "                \n",
        "                # <EOS> 토큰을 만나면 중지시킴\n",
        "                if decoder_input.item() == 1:\n",
        "                   break\n",
        "\n",
        "        # 전체 손실 계산\n",
        "        total_loss += loss.item() / len(dataset)\n",
        "        iterator.set_description(f'epoch : {epoch+1}. loss : {total_loss}')\n",
        "        \n",
        "        # backward propagation\n",
        "        loss.backward()\n",
        "\n",
        "        # optimize function\n",
        "        encoder_optimizer.step()\n",
        "        decoder_optimizer.step()\n",
        "\n",
        "# 모델 save\n",
        "torch.save(encoder.state_dict(), 'attn_enc.pt')\n",
        "torch.save(decoder.state_dict(), 'attn_dec.pt')\n"
      ],
      "metadata": {
        "colab": {
          "base_uri": "https://localhost:8080/",
          "height": 404,
          "referenced_widgets": [
            "7bb3d8372d384a3eb48c4eab3373acdf",
            "5cba416c3e044fe09d0b697369348103",
            "435de40d818947fc8f0bd58008d94387",
            "dd397f48d357441bb8a338574ecf131f",
            "37fa8d494b214aecbfd1e2453e74375f",
            "df24c6c8d4ad485ebbf5738b5ced4513",
            "78361ce8b08547a487cd4800f9f4d647",
            "784e737bc398469abebef4db8b5d4e3b",
            "4396f941a6894c48a1b83c6b9e69360d",
            "6365a430d77a4316a17aa9854e84707e",
            "86209eb6307a40e8a58650e259e6de2b",
            "a4ed601a2f5e41bd9906bdcde38e4100",
            "a95ab7dc4c70486d94a1df068d121d2a",
            "4fcbe7ff94ab48459f046bbae512359c",
            "ae822f82a92b4c7dac9f548e771ed877",
            "1ed2351f1af64f43a474161789f2fb97",
            "5a8a92987394482085d80ef397488628",
            "275ea25d52324a97b3e7581fe69b710f",
            "844ba64e67ce459096d3f85409641ff7",
            "c78d1334493e4ea18af9a20fb0f94d29",
            "6b7969b1ead1452a987bdd33e89b76a1",
            "f13fe406a34b4adf8222d4b16f0f6bb9",
            "59c4145a19284b40915b7c046cbe95d7",
            "af73e5130300446fb42e80e924258196",
            "b2a601e472a645948e283276277637f1",
            "b87acdc9d6294e60b389c44fe8195da8",
            "4d66ed774c1d417aa5140c9c41444da9",
            "d1d36e3b8ba04e66913373079c710f16",
            "c4379d7b0eba49d792fb99d5511fdb77",
            "a3a809eedf2946d5b49dd52867257a40",
            "1d0c40d70cd64edca153a2f6a0d991df",
            "1bc67394fbdc4cf7a496a32f4b64681d",
            "61c41e09eb624bc1b55557871ba8e065",
            "98acbca486e74510ac2ffa0e4ed70f98",
            "5c55ba2334eb4f08b09b3788fb8f009a",
            "541a3e1fc09a4c23a91412ad2a548f1c",
            "f8b44658c821481c8bfbf3e1027a8a6f",
            "5ce8d7a192a44ba7910c57cb9bdd2314",
            "23a70eed773f4111a8e475a20d2e9ce1",
            "2be2f65d5263488386526bce11eec3e3",
            "549df83ab22f492eba247535567393e5",
            "3d4face704bb446dbc9f2ed69a1a2b61",
            "c160e4141f6a4b088a3ce6183fa2e8cc",
            "61d2cbc2e91949c49899e0f9c8c61d89",
            "85bee47f7411423f8d5bd2de952e21de",
            "abc63bb1527c4157ae457e6314664387",
            "4b127703494a4b658ffd0f13e0fe9159",
            "e4671beddff04d9888e6beeb9c0ae797",
            "b5e7b51b838d472385e793970a625e0c",
            "6b13c9b9510c4a00ac39348701ca8965",
            "fc1e3aab1ba24883be8f42e5414581c3",
            "6e13f49eba8647b3bf1f7123fdfe6b34",
            "35601819b24c44d4b5bb0f7f39c3ef90",
            "479076b298db4db895dbcb2499af3b82",
            "0017168ef15f4adab4a999860c0e1646",
            "7478a9263e6e4b889d752a5d21fb3e75",
            "f17f8669004246cd93bd945e6459bf72",
            "5391b40618d14edab842a867de862298",
            "e47722a7a0b345c49b26acf074e48c2c",
            "fc7f1d47c3f046148cb0dcfc2d23c17f",
            "5c56d3fdd44a4d6d8a7f44a97ae06b56",
            "ba0fc8014e824e7e8054b9033504ed7b",
            "d7d4c0da8e72476a9f7d9031242f842a",
            "36fa2a1d675a4f609b2ba2e9a4a4a522",
            "0dc2608fa66a4c70b23c504f90eb03fc",
            "c7840727c1774842a17b69600969377c",
            "b59829c318d14c308ad87ce6fa46747d",
            "18579c2e66c94a8bbe5b65f808ecdaae",
            "7f57a36d049e46ab8f12150e4c72b2d6",
            "dda3b6c4759d43af891776b61ddb2ebf",
            "f34ce1b96c7347db8ba6ba9925aaecec",
            "7adec5c7669a42c6b847189113cb28ec",
            "23b6a6f5da774813b791476e0f7950e9",
            "c1cc0337d9114a5889cef39626610a34",
            "cc49c711e9c74416804003f534bde17c",
            "09b29df3766a4ed1a484d9a3bb507fce",
            "f11e981df72b4ba89904821c73a96fb6"
          ]
        },
        "id": "IBzEnd4g6lBp",
        "outputId": "65e5c92e-3b01-4da2-d1b0-4c109b2f9dce"
      },
      "execution_count": null,
      "outputs": [
        {
          "output_type": "display_data",
          "data": {
            "text/plain": [
              "  0%|          | 0/3592 [00:00<?, ?it/s]"
            ],
            "application/vnd.jupyter.widget-view+json": {
              "version_major": 2,
              "version_minor": 0,
              "model_id": "7bb3d8372d384a3eb48c4eab3373acdf"
            }
          },
          "metadata": {}
        },
        {
          "output_type": "stream",
          "name": "stderr",
          "text": [
            "<ipython-input-42-cb6d373f6042>:7: UserWarning: To copy construct from a tensor, it is recommended to use sourceTensor.clone().detach() or sourceTensor.clone().detach().requires_grad_(True), rather than torch.tensor(sourceTensor).\n",
            "  data = torch.tensor(data, dtype = torch.long).to(device)\n",
            "<ipython-input-42-cb6d373f6042>:8: UserWarning: To copy construct from a tensor, it is recommended to use sourceTensor.clone().detach() or sourceTensor.clone().detach().requires_grad_(True), rather than torch.tensor(sourceTensor).\n",
            "  label = torch.tensor(label, dtype = torch.long).to(device)\n",
            "<ipython-input-42-cb6d373f6042>:46: UserWarning: To copy construct from a tensor, it is recommended to use sourceTensor.clone().detach() or sourceTensor.clone().detach().requires_grad_(True), rather than torch.tensor(sourceTensor).\n",
            "  target = torch.tensor(label[di], dtype = torch.long).to(device)\n",
            "<ipython-input-42-cb6d373f6042>:61: UserWarning: To copy construct from a tensor, it is recommended to use sourceTensor.clone().detach() or sourceTensor.clone().detach().requires_grad_(True), rather than torch.tensor(sourceTensor).\n",
            "  target = torch.tensor(label[di], dtype = torch.long).to(device)\n"
          ]
        },
        {
          "output_type": "display_data",
          "data": {
            "text/plain": [
              "  0%|          | 0/3592 [00:00<?, ?it/s]"
            ],
            "application/vnd.jupyter.widget-view+json": {
              "version_major": 2,
              "version_minor": 0,
              "model_id": "a4ed601a2f5e41bd9906bdcde38e4100"
            }
          },
          "metadata": {}
        },
        {
          "output_type": "display_data",
          "data": {
            "text/plain": [
              "  0%|          | 0/3592 [00:00<?, ?it/s]"
            ],
            "application/vnd.jupyter.widget-view+json": {
              "version_major": 2,
              "version_minor": 0,
              "model_id": "59c4145a19284b40915b7c046cbe95d7"
            }
          },
          "metadata": {}
        },
        {
          "output_type": "display_data",
          "data": {
            "text/plain": [
              "  0%|          | 0/3592 [00:00<?, ?it/s]"
            ],
            "application/vnd.jupyter.widget-view+json": {
              "version_major": 2,
              "version_minor": 0,
              "model_id": "98acbca486e74510ac2ffa0e4ed70f98"
            }
          },
          "metadata": {}
        },
        {
          "output_type": "display_data",
          "data": {
            "text/plain": [
              "  0%|          | 0/3592 [00:00<?, ?it/s]"
            ],
            "application/vnd.jupyter.widget-view+json": {
              "version_major": 2,
              "version_minor": 0,
              "model_id": "85bee47f7411423f8d5bd2de952e21de"
            }
          },
          "metadata": {}
        },
        {
          "output_type": "display_data",
          "data": {
            "text/plain": [
              "  0%|          | 0/3592 [00:00<?, ?it/s]"
            ],
            "application/vnd.jupyter.widget-view+json": {
              "version_major": 2,
              "version_minor": 0,
              "model_id": "7478a9263e6e4b889d752a5d21fb3e75"
            }
          },
          "metadata": {}
        },
        {
          "output_type": "display_data",
          "data": {
            "text/plain": [
              "  0%|          | 0/3592 [00:00<?, ?it/s]"
            ],
            "application/vnd.jupyter.widget-view+json": {
              "version_major": 2,
              "version_minor": 0,
              "model_id": "b59829c318d14c308ad87ce6fa46747d"
            }
          },
          "metadata": {}
        }
      ]
    },
    {
      "cell_type": "code",
      "source": [
        "# https://github.com/bigdata-young/ai_26th/raw/main/etc/attn_enc.pt\n",
        "# https://github.com/bigdata-young/ai_26th/raw/main/etc/attn_dec.pt\n",
        "!wget https://github.com/bigdata-young/ai_26th/raw/main/etc/attn_enc.pt\n",
        "!wget https://github.com/bigdata-young/ai_26th/raw/main/etc/attn_dec.pt"
      ],
      "metadata": {
        "colab": {
          "base_uri": "https://localhost:8080/"
        },
        "id": "kVAuwvcCDWzd",
        "outputId": "f481e404-bef4-4cce-f6cc-930b8ec764e7"
      },
      "execution_count": 21,
      "outputs": [
        {
          "output_type": "stream",
          "name": "stdout",
          "text": [
            "--2023-01-19 08:27:45--  https://github.com/bigdata-young/ai_26th/raw/main/etc/attn_enc.pt\n",
            "Resolving github.com (github.com)... 20.27.177.113\n",
            "Connecting to github.com (github.com)|20.27.177.113|:443... connected.\n",
            "HTTP request sent, awaiting response... 302 Found\n",
            "Location: https://raw.githubusercontent.com/bigdata-young/ai_26th/main/etc/attn_enc.pt [following]\n",
            "--2023-01-19 08:27:46--  https://raw.githubusercontent.com/bigdata-young/ai_26th/main/etc/attn_enc.pt\n",
            "Resolving raw.githubusercontent.com (raw.githubusercontent.com)... 185.199.110.133, 185.199.111.133, 185.199.109.133, ...\n",
            "Connecting to raw.githubusercontent.com (raw.githubusercontent.com)|185.199.110.133|:443... connected.\n",
            "HTTP request sent, awaiting response... 200 OK\n",
            "Length: 727147 (710K) [application/octet-stream]\n",
            "Saving to: ‘attn_enc.pt’\n",
            "\n",
            "attn_enc.pt         100%[===================>] 710.10K  --.-KB/s    in 0.04s   \n",
            "\n",
            "2023-01-19 08:27:46 (16.0 MB/s) - ‘attn_enc.pt’ saved [727147/727147]\n",
            "\n",
            "--2023-01-19 08:27:46--  https://github.com/bigdata-young/ai_26th/raw/main/etc/attn_dec.pt\n",
            "Resolving github.com (github.com)... 140.82.114.3\n",
            "Connecting to github.com (github.com)|140.82.114.3|:443... connected.\n",
            "HTTP request sent, awaiting response... 302 Found\n",
            "Location: https://raw.githubusercontent.com/bigdata-young/ai_26th/main/etc/attn_dec.pt [following]\n",
            "--2023-01-19 08:27:47--  https://raw.githubusercontent.com/bigdata-young/ai_26th/main/etc/attn_dec.pt\n",
            "Resolving raw.githubusercontent.com (raw.githubusercontent.com)... 185.199.108.133, 185.199.109.133, 185.199.110.133, ...\n",
            "Connecting to raw.githubusercontent.com (raw.githubusercontent.com)|185.199.108.133|:443... connected.\n",
            "HTTP request sent, awaiting response... 200 OK\n",
            "Length: 2857305 (2.7M) [application/octet-stream]\n",
            "Saving to: ‘attn_dec.pt’\n",
            "\n",
            "attn_dec.pt         100%[===================>]   2.72M  --.-KB/s    in 0.07s   \n",
            "\n",
            "2023-01-19 08:27:47 (41.9 MB/s) - ‘attn_dec.pt’ saved [2857305/2857305]\n",
            "\n"
          ]
        }
      ]
    },
    {
      "cell_type": "markdown",
      "source": [
        "# 성능 평가"
      ],
      "metadata": {
        "id": "i36TPxI0DW3x"
      }
    },
    {
      "cell_type": "code",
      "source": [
        "# 인코더 가중치 불러오기\n",
        "encoder.load_state_dict(torch.load(\"attn_enc.pt\", map_location=device))\n",
        "decoder.load_state_dict(torch.load(\"attn_dec.pt\", map_location=device))"
      ],
      "metadata": {
        "colab": {
          "base_uri": "https://localhost:8080/"
        },
        "id": "3YG0FD5UDoum",
        "outputId": "aeb1ac3a-7ede-4250-d98a-5ffd865ec9ae"
      },
      "execution_count": 22,
      "outputs": [
        {
          "output_type": "execute_result",
          "data": {
            "text/plain": [
              "<All keys matched successfully>"
            ]
          },
          "metadata": {},
          "execution_count": 22
        }
      ]
    },
    {
      "cell_type": "code",
      "source": [
        "# 불러올 영어 문장을 랜덤하게 지정\n",
        "idx = random.randint(0, len(dataset))\n",
        "# 테스트에 사용할 문장\n",
        "input_sentence = dataset.eng_corpus[idx]\n",
        "input_sentence"
      ],
      "metadata": {
        "id": "w8Bi96MPDow7"
      },
      "execution_count": null,
      "outputs": []
    },
    {
      "cell_type": "code",
      "source": [
        "# 신경망이 번역한 문장\n",
        "pred_sentence = \" \""
      ],
      "metadata": {
        "id": "I61EKj18DozT"
      },
      "execution_count": null,
      "outputs": []
    },
    {
      "cell_type": "code",
      "source": [
        "data, label = dataset[idx]\n",
        "data = torch.tensor(data, dtype = torch.long).to(device) # 영어 문장\n",
        "label = torch.tensor(label, dtype = torch.long).to(device) # 한국어 문장"
      ],
      "metadata": {
        "id": "r-364BkrEM4V"
      },
      "execution_count": null,
      "outputs": []
    },
    {
      "cell_type": "code",
      "source": [
        "data"
      ],
      "metadata": {
        "id": "LI8f2TMkEM6t"
      },
      "execution_count": null,
      "outputs": []
    },
    {
      "cell_type": "code",
      "source": [
        "label"
      ],
      "metadata": {
        "id": "CHo9T8O8Do1t"
      },
      "execution_count": null,
      "outputs": []
    },
    {
      "cell_type": "markdown",
      "source": [
        "# 인코더 동작"
      ],
      "metadata": {
        "id": "0SgtTGhFEyY8"
      }
    },
    {
      "cell_type": "code",
      "source": [
        "# 인코더의 초기 은닉 상태 정의\n",
        "encoder_hidden = torch.zeros(1, 1, 64).to(device)\n",
        "# 인코더 출력을 담기 위한 변수\n",
        "encoder_outputs = torch.zeros(11, 64).to(device)"
      ],
      "metadata": {
        "id": "ot9ML_-EE0Us"
      },
      "execution_count": null,
      "outputs": []
    },
    {
      "cell_type": "code",
      "source": [
        "for ei in range(len(data)):\n",
        "\n",
        "    # 한 단어씩 인코더에 넣어줌\n",
        "    encoder_output, encoder_hidden = encoder(data[ei], encoder_hidden)\n",
        "\n",
        "    # 인코더 출력 저장\n",
        "    encoder_outputs[ei] = encoder_output[0, 0]"
      ],
      "metadata": {
        "id": "aWQ37GLeE-O6"
      },
      "execution_count": null,
      "outputs": []
    },
    {
      "cell_type": "code",
      "source": [
        "encoder_outputs"
      ],
      "metadata": {
        "id": "t3-GRTdvFQd8"
      },
      "execution_count": null,
      "outputs": []
    },
    {
      "cell_type": "markdown",
      "source": [
        "# 디코더 동작"
      ],
      "metadata": {
        "id": "uYhwJMhIE0Wz"
      }
    },
    {
      "cell_type": "code",
      "source": [
        "# decoder 초기 입력\n",
        "decoder_input = torch.tensor([[0]]).to(device)\n",
        "# 0 : 문장이 시작되었다는 sos 토큰\n",
        "\n",
        "# encoder의 마지막 은닉상태를 디코더의 초기 은닉상태\n",
        "decoder_hidden = encoder_hidden"
      ],
      "metadata": {
        "id": "Ai9phKm9FPT2"
      },
      "execution_count": null,
      "outputs": []
    },
    {
      "cell_type": "code",
      "source": [
        "for di in range(11):\n",
        "    \n",
        "    # 디코더 모델을 통해서 단어별 출현할 확률\n",
        "    decoder_output = decoder(decoder_input, decoder_hidden, encoder_outputs)\n",
        "\n",
        "    # 가장 높은 확률을 갖는 단어의 요소 계산\n",
        "    topv, topi = decoder_output.topk(1)\n",
        "\n",
        "    # 가장 높은 확률의 단어\n",
        "    decoder_input = topi.squeeze().detach()\n",
        "\n",
        "    # EOS 토큰을 만나면 중지\n",
        "    if decoder_input.item() == 1:\n",
        "       break\n",
        "    \n",
        "    # 예측 문자열에 가장 높은 확률의 단어를 추가\n",
        "    pred_sentence += list(dataset.korBOW.keys())[decoder_input] + \" \"\n"
      ],
      "metadata": {
        "id": "cLJNglEWFPWD"
      },
      "execution_count": null,
      "outputs": []
    },
    {
      "cell_type": "code",
      "source": [
        "# 번역 시작\n",
        "print(input_sentence)"
      ],
      "metadata": {
        "id": "H5Im-uxSGm7d"
      },
      "execution_count": null,
      "outputs": []
    },
    {
      "cell_type": "code",
      "source": [
        "print(pred_sentence)"
      ],
      "metadata": {
        "id": "mfamvaR8GoRU"
      },
      "execution_count": null,
      "outputs": []
    },
    {
      "cell_type": "markdown",
      "source": [
        "# 2번째"
      ],
      "metadata": {
        "id": "DBODiWMaEfMT"
      }
    },
    {
      "cell_type": "code",
      "source": [
        "# 학습에 사용할 프로세서 정의\n",
        "device = 'cuda' if torch.cuda.is_available() else 'cpu'\n",
        "\n",
        "# 학습에 사용할 데이터셋\n",
        "dataset = Eng2Kor()\n",
        "\n",
        "# 인코더, 디코더 정의\n",
        "encoder = Encoder(input_size = len(dataset.engBOW), hidden_size = 64).to(device)\n",
        "decoder = Decoder(64, len(dataset.korBOW), dropout_p = 0.1).to(device)\n",
        "\n",
        "# 인코더와 디코더 학습을 위한 최적화 함수 정의\n",
        "encoder_optimizer = AdamW(encoder.parameters(), lr = 0.001)\n",
        "decoder_optimizer = AdamW(encoder.parameters(), lr = 0.001)"
      ],
      "metadata": {
        "id": "ddAM_in5_4zO"
      },
      "execution_count": 39,
      "outputs": []
    },
    {
      "cell_type": "code",
      "source": [],
      "metadata": {
        "id": "wtdlGIAPAU2F"
      },
      "execution_count": null,
      "outputs": []
    }
  ]
}