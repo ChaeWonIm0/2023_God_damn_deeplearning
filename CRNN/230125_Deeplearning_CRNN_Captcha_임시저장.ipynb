{
  "nbformat": 4,
  "nbformat_minor": 0,
  "metadata": {
    "colab": {
      "provenance": [],
      "collapsed_sections": [
        "mSJ1qictj1EQ"
      ],
      "authorship_tag": "ABX9TyNQFgJyjtaBHDZld3aSVFwF",
      "include_colab_link": true
    },
    "kernelspec": {
      "name": "python3",
      "display_name": "Python 3"
    },
    "language_info": {
      "name": "python"
    },
    "accelerator": "GPU",
    "gpuClass": "standard"
  },
  "cells": [
    {
      "cell_type": "markdown",
      "metadata": {
        "id": "view-in-github",
        "colab_type": "text"
      },
      "source": [
        "<a href=\"https://colab.research.google.com/github/dla9944/2023_God_damn_deeplearning/blob/master/230125_Deeplearning_CRNN_Captcha_%EC%9E%84%EC%8B%9C%EC%A0%80%EC%9E%A5.ipynb\" target=\"_parent\"><img src=\"https://colab.research.google.com/assets/colab-badge.svg\" alt=\"Open In Colab\"/></a>"
      ]
    },
    {
      "cell_type": "markdown",
      "source": [
        "# GPU, 라이브러리 SETTING"
      ],
      "metadata": {
        "id": "8a6HUd2Pherx"
      }
    },
    {
      "cell_type": "code",
      "source": [
        "# pytorch 라이브러리\n",
        "import torch\n",
        "import torchvision\n",
        "import torch.nn.functional as F\n",
        "from torch.utils import data\n",
        "from torch.utils.data import Dataset\n",
        "from torch import nn, optim\n",
        "from torchvision import transforms, datasets\n",
        "from torchvision.utils import save_image\n",
        "\n",
        "# 시각화 관련\n",
        "\n",
        "import matplotlib.pyplot as plt\n",
        "from mpl_toolkits.mplot3d import Axes3D\n",
        "import matplotlib as mpl\n",
        "from matplotlib import cm \n",
        "from PIL import Image\n",
        "\n",
        "# arange 기본\n",
        "import numpy as np\n",
        "import pandas as pd\n",
        "import  glob\n",
        "\n",
        "\n",
        "# image convertor\n",
        "import albumentations as A\n",
        "from albumentations.pytorch import ToTensorV2\n",
        "\n",
        "# 그외\n",
        "\n",
        "import os\n",
        "import random\n",
        "import string"
      ],
      "metadata": {
        "id": "OU_BJ2g3hlex"
      },
      "execution_count": 30,
      "outputs": []
    },
    {
      "cell_type": "code",
      "source": [
        "# gpu 사용\n",
        "\n",
        "USE_CUDA = torch.cuda.is_available()\n",
        "DEVICE= torch.device(\"cuda\" if USE_CUDA else \"cpu\")\n",
        "print(f\"Using Device : {DEVICE}\")"
      ],
      "metadata": {
        "colab": {
          "base_uri": "https://localhost:8080/"
        },
        "id": "cA4CNg7FhrVg",
        "outputId": "6520c82f-a7a2-4f9f-e974-cf7f55880b91"
      },
      "execution_count": 31,
      "outputs": [
        {
          "output_type": "stream",
          "name": "stdout",
          "text": [
            "Using Device : cuda\n"
          ]
        }
      ]
    },
    {
      "cell_type": "markdown",
      "source": [
        "# 데이터 로드\n",
        "* 캡차 데이터셋\n",
        "* https://www.kaggle.com/datasets/fournierp/captcha-version-2-images"
      ],
      "metadata": {
        "id": "QDC3ydgYhsYJ"
      }
    },
    {
      "cell_type": "code",
      "source": [
        "# https://www.kaggle.com/{본인ID}/account\n",
        "# 본인 프로필 누르고 > Account\n",
        "# > Create New API Token > kaggle.json\n",
        "from google.colab import files\n",
        "!pip install -q kaggle #kaggle 설치 # --quiet\n",
        "# -- kaggle api를 사용하기 위한 인증파일을 설정 (8-11)\n",
        "files.upload() #kaggle API file upload\n",
        "!mkdir ~/.kaggle # kaggle 디렉토리 생성 / mkdir : make directory - 폴더 생성 (~)\n",
        "!cp kaggle.json ~/.kaggle/ #kaggle.json 파일 kaggle 폴더에 복사 / cp a b (copy)\n",
        "!chmod 600 ~/.kaggle/kaggle.json # 권한 변경 r w x (4 2 1)\n",
        "# ---------\n",
        "# !kaggle datasets list #kaggle 데이터셋 리스트 체크\n",
        "# https://www.kaggle.com/datasets/fournierp/captcha-version-2-images\n",
        "# ... > Copy API command\n",
        "!kaggle datasets download -d fournierp/captcha-version-2-images"
      ],
      "metadata": {
        "colab": {
          "base_uri": "https://localhost:8080/",
          "height": 132
        },
        "id": "YS_sk-R_iRyR",
        "outputId": "550c2fb0-00ae-4205-8e44-fb3bb39cf1ac"
      },
      "execution_count": 32,
      "outputs": [
        {
          "output_type": "display_data",
          "data": {
            "text/plain": [
              "<IPython.core.display.HTML object>"
            ],
            "text/html": [
              "\n",
              "     <input type=\"file\" id=\"files-c7bc3030-db96-4f6f-af22-6db1aec518c2\" name=\"files[]\" multiple disabled\n",
              "        style=\"border:none\" />\n",
              "     <output id=\"result-c7bc3030-db96-4f6f-af22-6db1aec518c2\">\n",
              "      Upload widget is only available when the cell has been executed in the\n",
              "      current browser session. Please rerun this cell to enable.\n",
              "      </output>\n",
              "      <script>// Copyright 2017 Google LLC\n",
              "//\n",
              "// Licensed under the Apache License, Version 2.0 (the \"License\");\n",
              "// you may not use this file except in compliance with the License.\n",
              "// You may obtain a copy of the License at\n",
              "//\n",
              "//      http://www.apache.org/licenses/LICENSE-2.0\n",
              "//\n",
              "// Unless required by applicable law or agreed to in writing, software\n",
              "// distributed under the License is distributed on an \"AS IS\" BASIS,\n",
              "// WITHOUT WARRANTIES OR CONDITIONS OF ANY KIND, either express or implied.\n",
              "// See the License for the specific language governing permissions and\n",
              "// limitations under the License.\n",
              "\n",
              "/**\n",
              " * @fileoverview Helpers for google.colab Python module.\n",
              " */\n",
              "(function(scope) {\n",
              "function span(text, styleAttributes = {}) {\n",
              "  const element = document.createElement('span');\n",
              "  element.textContent = text;\n",
              "  for (const key of Object.keys(styleAttributes)) {\n",
              "    element.style[key] = styleAttributes[key];\n",
              "  }\n",
              "  return element;\n",
              "}\n",
              "\n",
              "// Max number of bytes which will be uploaded at a time.\n",
              "const MAX_PAYLOAD_SIZE = 100 * 1024;\n",
              "\n",
              "function _uploadFiles(inputId, outputId) {\n",
              "  const steps = uploadFilesStep(inputId, outputId);\n",
              "  const outputElement = document.getElementById(outputId);\n",
              "  // Cache steps on the outputElement to make it available for the next call\n",
              "  // to uploadFilesContinue from Python.\n",
              "  outputElement.steps = steps;\n",
              "\n",
              "  return _uploadFilesContinue(outputId);\n",
              "}\n",
              "\n",
              "// This is roughly an async generator (not supported in the browser yet),\n",
              "// where there are multiple asynchronous steps and the Python side is going\n",
              "// to poll for completion of each step.\n",
              "// This uses a Promise to block the python side on completion of each step,\n",
              "// then passes the result of the previous step as the input to the next step.\n",
              "function _uploadFilesContinue(outputId) {\n",
              "  const outputElement = document.getElementById(outputId);\n",
              "  const steps = outputElement.steps;\n",
              "\n",
              "  const next = steps.next(outputElement.lastPromiseValue);\n",
              "  return Promise.resolve(next.value.promise).then((value) => {\n",
              "    // Cache the last promise value to make it available to the next\n",
              "    // step of the generator.\n",
              "    outputElement.lastPromiseValue = value;\n",
              "    return next.value.response;\n",
              "  });\n",
              "}\n",
              "\n",
              "/**\n",
              " * Generator function which is called between each async step of the upload\n",
              " * process.\n",
              " * @param {string} inputId Element ID of the input file picker element.\n",
              " * @param {string} outputId Element ID of the output display.\n",
              " * @return {!Iterable<!Object>} Iterable of next steps.\n",
              " */\n",
              "function* uploadFilesStep(inputId, outputId) {\n",
              "  const inputElement = document.getElementById(inputId);\n",
              "  inputElement.disabled = false;\n",
              "\n",
              "  const outputElement = document.getElementById(outputId);\n",
              "  outputElement.innerHTML = '';\n",
              "\n",
              "  const pickedPromise = new Promise((resolve) => {\n",
              "    inputElement.addEventListener('change', (e) => {\n",
              "      resolve(e.target.files);\n",
              "    });\n",
              "  });\n",
              "\n",
              "  const cancel = document.createElement('button');\n",
              "  inputElement.parentElement.appendChild(cancel);\n",
              "  cancel.textContent = 'Cancel upload';\n",
              "  const cancelPromise = new Promise((resolve) => {\n",
              "    cancel.onclick = () => {\n",
              "      resolve(null);\n",
              "    };\n",
              "  });\n",
              "\n",
              "  // Wait for the user to pick the files.\n",
              "  const files = yield {\n",
              "    promise: Promise.race([pickedPromise, cancelPromise]),\n",
              "    response: {\n",
              "      action: 'starting',\n",
              "    }\n",
              "  };\n",
              "\n",
              "  cancel.remove();\n",
              "\n",
              "  // Disable the input element since further picks are not allowed.\n",
              "  inputElement.disabled = true;\n",
              "\n",
              "  if (!files) {\n",
              "    return {\n",
              "      response: {\n",
              "        action: 'complete',\n",
              "      }\n",
              "    };\n",
              "  }\n",
              "\n",
              "  for (const file of files) {\n",
              "    const li = document.createElement('li');\n",
              "    li.append(span(file.name, {fontWeight: 'bold'}));\n",
              "    li.append(span(\n",
              "        `(${file.type || 'n/a'}) - ${file.size} bytes, ` +\n",
              "        `last modified: ${\n",
              "            file.lastModifiedDate ? file.lastModifiedDate.toLocaleDateString() :\n",
              "                                    'n/a'} - `));\n",
              "    const percent = span('0% done');\n",
              "    li.appendChild(percent);\n",
              "\n",
              "    outputElement.appendChild(li);\n",
              "\n",
              "    const fileDataPromise = new Promise((resolve) => {\n",
              "      const reader = new FileReader();\n",
              "      reader.onload = (e) => {\n",
              "        resolve(e.target.result);\n",
              "      };\n",
              "      reader.readAsArrayBuffer(file);\n",
              "    });\n",
              "    // Wait for the data to be ready.\n",
              "    let fileData = yield {\n",
              "      promise: fileDataPromise,\n",
              "      response: {\n",
              "        action: 'continue',\n",
              "      }\n",
              "    };\n",
              "\n",
              "    // Use a chunked sending to avoid message size limits. See b/62115660.\n",
              "    let position = 0;\n",
              "    do {\n",
              "      const length = Math.min(fileData.byteLength - position, MAX_PAYLOAD_SIZE);\n",
              "      const chunk = new Uint8Array(fileData, position, length);\n",
              "      position += length;\n",
              "\n",
              "      const base64 = btoa(String.fromCharCode.apply(null, chunk));\n",
              "      yield {\n",
              "        response: {\n",
              "          action: 'append',\n",
              "          file: file.name,\n",
              "          data: base64,\n",
              "        },\n",
              "      };\n",
              "\n",
              "      let percentDone = fileData.byteLength === 0 ?\n",
              "          100 :\n",
              "          Math.round((position / fileData.byteLength) * 100);\n",
              "      percent.textContent = `${percentDone}% done`;\n",
              "\n",
              "    } while (position < fileData.byteLength);\n",
              "  }\n",
              "\n",
              "  // All done.\n",
              "  yield {\n",
              "    response: {\n",
              "      action: 'complete',\n",
              "    }\n",
              "  };\n",
              "}\n",
              "\n",
              "scope.google = scope.google || {};\n",
              "scope.google.colab = scope.google.colab || {};\n",
              "scope.google.colab._files = {\n",
              "  _uploadFiles,\n",
              "  _uploadFilesContinue,\n",
              "};\n",
              "})(self);\n",
              "</script> "
            ]
          },
          "metadata": {}
        },
        {
          "output_type": "stream",
          "name": "stdout",
          "text": [
            "Saving kaggle.json to kaggle (1).json\n",
            "mkdir: cannot create directory ‘/root/.kaggle’: File exists\n",
            "captcha-version-2-images.zip: Skipping, found more recently modified local copy (use --force to force download)\n"
          ]
        }
      ]
    },
    {
      "cell_type": "code",
      "source": [
        "# https://www.kaggle.com/datasets/fournierp/captcha-version-2-images\n",
        "!kaggle datasets download -d salimwid/technology-company-layoffs-20222023-data"
      ],
      "metadata": {
        "colab": {
          "base_uri": "https://localhost:8080/"
        },
        "id": "W4IA8CTyiR_P",
        "outputId": "54d22ec1-be5e-422c-895b-c82ee9c11018"
      },
      "execution_count": 33,
      "outputs": [
        {
          "output_type": "stream",
          "name": "stdout",
          "text": [
            "technology-company-layoffs-20222023-data.zip: Skipping, found more recently modified local copy (use --force to force download)\n"
          ]
        }
      ]
    },
    {
      "cell_type": "code",
      "source": [
        "# 알집 압축 해제\n",
        "!unzip /content/captcha-version-2-images.zip"
      ],
      "metadata": {
        "colab": {
          "base_uri": "https://localhost:8080/"
        },
        "id": "FS3lNoo_iyvM",
        "outputId": "057429d8-1dcf-44ca-c407-1e26f87a1418"
      },
      "execution_count": 34,
      "outputs": [
        {
          "output_type": "stream",
          "name": "stdout",
          "text": [
            "Archive:  /content/captcha-version-2-images.zip\n",
            "replace samples/226md.png? [y]es, [n]o, [A]ll, [N]one, [r]ename: N\n"
          ]
        }
      ]
    },
    {
      "cell_type": "code",
      "source": [
        "imgfile = sorted(glob.glob(\n",
        "    'samples/*.png'\n",
        "))\n",
        "imgfile[0]"
      ],
      "metadata": {
        "colab": {
          "base_uri": "https://localhost:8080/",
          "height": 35
        },
        "id": "6oqdHxk7jAKe",
        "outputId": "1887c7f1-f1a3-43b0-87cc-51f8673b7fb8"
      },
      "execution_count": 35,
      "outputs": [
        {
          "output_type": "execute_result",
          "data": {
            "text/plain": [
              "'samples/226md.png'"
            ],
            "application/vnd.google.colaboratory.intrinsic+json": {
              "type": "string"
            }
          },
          "metadata": {},
          "execution_count": 35
        }
      ]
    },
    {
      "cell_type": "code",
      "source": [
        "# image파일을 경로에 맞춰서 오픈할 수 있음\n",
        "imageshow = Image.open(imgfile[0])\n",
        "plt.imshow(imageshow)"
      ],
      "metadata": {
        "colab": {
          "base_uri": "https://localhost:8080/",
          "height": 153
        },
        "id": "fFYXjfVQjtVt",
        "outputId": "4c574ba5-aa8d-4fe5-91b2-d962a3f78ff0"
      },
      "execution_count": 36,
      "outputs": [
        {
          "output_type": "execute_result",
          "data": {
            "text/plain": [
              "<matplotlib.image.AxesImage at 0x7f0b9dc07250>"
            ]
          },
          "metadata": {},
          "execution_count": 36
        },
        {
          "output_type": "display_data",
          "data": {
            "text/plain": [
              "<Figure size 432x288 with 1 Axes>"
            ],
            "image/png": "[encoded data removed]"
          },
          "metadata": {
            "needs_background": "light"
          }
        }
      ]
    },
    {
      "cell_type": "markdown",
      "source": [
        "## png 설명\n",
        "\n",
        "* 이미지 파일의 확장자는 png\n",
        "* png파일은 RGB채널 뿐만 아니라 투명도를 나타내는 알파 채널이 존재\n",
        "* 일반적인 이미지 처리는 rgb를 가정하고 있기 때문에 이미지를 불러올 때\n",
        "png파일은 rgb로 변환해야 함"
      ],
      "metadata": {
        "id": "mSJ1qictj1EQ"
      }
    },
    {
      "cell_type": "markdown",
      "source": [
        "# 학습용 데이터셋 만들기"
      ],
      "metadata": {
        "id": "maskmqRQknql"
      }
    },
    {
      "cell_type": "markdown",
      "source": [
        "## 파일 이름에 해당하는 부분이 입력해야 할 정답값\n",
        "* 이름 그 자체는 의미값을 가지지 않음\n",
        "* 따라서 파일 이름에서 확장자인 .png를 떼어내고 , 파일 이름만 정답으로 이용\n",
        "* 정답에 등장하는 모든 문자들로부터 BOW를 만들어줘야함"
      ],
      "metadata": {
        "id": "F7C65OavkpUV"
      }
    },
    {
      "cell_type": "markdown",
      "source": [
        "## BOW를 만드는 함수"
      ],
      "metadata": {
        "id": "MmVW7biKle3O"
      }
    },
    {
      "cell_type": "code",
      "source": [
        "# 문자들로부터 BOW를 만드는 함수\n",
        "def get_BOW(corpus):\n",
        "    \n",
        "    # 공백 문자 <pad>를 0으로 설정\n",
        "    BOW = {'<pad>':0}\n",
        "\n",
        "    # corpus의 문자들을 이용해서 BOW의 고유번호를 추가하기로 함\n",
        "    for letter in corpus:\n",
        "        if letter not in BOW.keys():\n",
        "           BOW[letter]= len(BOW.keys())\n",
        "    return BOW"
      ],
      "metadata": {
        "id": "PBfaBT1-ltdL"
      },
      "execution_count": 37,
      "outputs": []
    },
    {
      "cell_type": "markdown",
      "source": [
        "# BOW 함수에 대해\n",
        "get_BOW() 함수는 문자의 집합을 입력으로 받아서 bow를 반환하는 함수\n",
        "* 먼저, 공백문자를 나타내는 토큰의 고유번호를 0으로 설정\n",
        "* 모든 문자로부터 BOW를 생성하게 됨\n",
        "* BOW에 들어있지 않는 문자의 고유번호를 CORPUS안에 들어있는 순서대로 설정"
      ],
      "metadata": {
        "id": "wrg9_q2RmKgJ"
      }
    },
    {
      "cell_type": "markdown",
      "source": [
        "# 데이터셋 객체 정의"
      ],
      "metadata": {
        "id": "nUqeD6HOmaTP"
      }
    },
    {
      "cell_type": "code",
      "source": [
        "# capcha 데이터셋\n",
        "\n",
        "class Captcha(Dataset):\n",
        "   \n",
        "   # 생성자\n",
        "   def __init__(self, path, train= True):\n",
        "        \n",
        "         # path는 이미지 파일이 있는 폴더의 경로\n",
        "         # train은 학습셋/ 시험셋 여부 결정\n",
        "         super().__init__()\n",
        "\n",
        "         # 소문자와 숫자만 정다븡로 이용\n",
        "         self.corpus = string.ascii_lowercase + string.digits\n",
        "         # ascii_lowercase =  일반적으로 사용하는 알파벳 소문자\n",
        "         # digit = 10진법 숫자\n",
        "\n",
        "         # 영어 소문자, 숫자로 만든 corpus로 BOW 업데이트\n",
        "         self.BOW = get_BOW(self.corpus)\n",
        "\n",
        "         # 불러올 이미지 파일의 경로\n",
        "         self.imgfiles = sorted(glob.glob(path+'/*.png'))\n",
        "\n",
        "         # 훈련셋/시험셋 -> 전체 이미지 파일 중에 80%는 훈련셋, 20%는 시험셋\n",
        "         self.train = train\n",
        "         self.trainset = self.imgfiles[:int(len(self.imgfiles)*0.8)]\n",
        "         self.testset = self.imgfiles[int(len(self.imgfiles)*0.8):]\n",
        "\n",
        "   # captcha의 문자(파일명)으로부터 정답(고유번호) 생성하는 함수\n",
        "   def get_seq(self, line):\n",
        "       label = []\n",
        "       for letter in line:\n",
        "           label.append(self.BOW[letter])   \n",
        "       return label\n",
        "\n",
        "   # 데이터 갯수를 반환하는 함수 __len__\n",
        "   def __len__(self):\n",
        "       if self.train:\n",
        "          return len(self.trainset)\n",
        "       else:\n",
        "          return len(self.testset)\n",
        "    \n",
        "   # 학습용 데이터를 처리\n",
        "   def __getitem__(self, i):\n",
        "        if self.train:\n",
        "\n",
        "           # png파일을 RGB 채널로 변환\n",
        "           data = Image.open(self.trainset[i]).convert('RGB')\n",
        "           \n",
        "           # 경로를 '/' 단위로 split\n",
        "           label = self.trainset[i].split('/')[-1]\n",
        "\n",
        "           # 파일이름에서 확장자를 제거\n",
        "           label = label.replace('.png', '')\n",
        "\n",
        "           # BOW의 순열 → 고유번호 리스트. 숫자표현으로 바뀌게 됨\n",
        "           label = self.get_seq(label)\n",
        "\n",
        "           # 이미지 처리(+numpy 배열로 변환)\n",
        "           # PIL(가로, 세로, RGB채널) → pytorch(RGB채널, 가로, 세로)\n",
        "           data = np.array(data).astype(np.float32)\n",
        "\n",
        "           # transpose(전치)\n",
        "           data = np.transpose(data, (2, 0, 1))\n",
        "\n",
        "           # A 배열의 차원 순서를 'shape'가 되도록 변경하기 = np.transpose(A, shape)\n",
        "           label = np.array(label)\n",
        "\n",
        "           return data, label\n",
        "\n",
        "        # 시험셋 데이터를 처리할 때\n",
        "        else: \n",
        "            # 시험용 데이터를 처리하는 코드(위와 거의 동일함)\n",
        "            data = Image.open(self.testset[i]).convert('RGB')\n",
        "\n",
        "            label = self.trainset[i].split(\"/\")[-1]\n",
        "            label = label.replace(\".png\", \"\")\n",
        "            label = self.get_seq(label)\n",
        "\n",
        "            data = np.array(data).astype(np.float32)\n",
        "            data = np.transpose(data, (2, 0, 1))\n",
        "\n",
        "            label = np.array(label)\n",
        "            return data, label"
      ],
      "metadata": {
        "id": "fT6lJMBcmkeK"
      },
      "execution_count": 38,
      "outputs": []
    },
    {
      "cell_type": "markdown",
      "source": [
        "# 모델 정의"
      ],
      "metadata": {
        "id": "p1Bi5KYGvaPG"
      }
    },
    {
      "cell_type": "markdown",
      "source": [
        "## 기본 블록 정의"
      ],
      "metadata": {
        "id": "EIiWQ8Ax5lAb"
      }
    },
    {
      "cell_type": "code",
      "source": [
        "# CRNN 모델 3x5 사이즈 커널 이용\n",
        "class BasicBlock(nn.Module):\n",
        "   def __init__(self, in_channels, out_channels, kernel_size = (3,5), stride = (2,1)):\n",
        "       super(BasicBlock, self).__init__()\n",
        "       \n",
        "       # 합성곱 레이어는 2개 → 커널 크기가 다름\n",
        "       # 첫번째 합성곱 : 가로 길이 > 세로 길이 (3x5)\n",
        "       self.c1 = nn.Conv2d(in_channels=in_channels, out_channels = out_channels, kernel_size = kernel_size, stride = stride)\n",
        "       \n",
        "       # 두번째 합성곱 : 가로 길이 = 세로 길이 (정사각형)\n",
        "       self.c2 = nn.Conv2d(in_channels=out_channels, out_channels = out_channels, kernel_size = (3,3), padding = 1)\n",
        "       \n",
        "       # Resnet 사용할 예정 : 원본 다운 샘플링\n",
        "       self.downsample = nn.Conv2d(in_channels=in_channels, out_channels = out_channels, kernel_size = kernel_size, stride = stride)\n",
        "\n",
        "       # batch normalize를 통한 overfitting 방지함\n",
        "       self.bn1 = nn.BatchNorm2d(num_features = out_channels)\n",
        "       self.bn2 = nn.BatchNorm2d(num_features = out_channels)\n",
        "\n",
        "       # Activation function\n",
        "       self.ReLU = nn.ReLU()\n",
        "\n",
        "   # Resnet의 forward propagation 정의\n",
        "   # convolution & batch normalization & x와 x_(원본)을 더해서 출력할 예정\n",
        "   def forward(self, x):\n",
        "       \n",
        "       # 임시저장\n",
        "       x_ = x \n",
        "\n",
        "       x = self.c1(x)\n",
        "       x = self.bn1(x)\n",
        "       x = self.ReLU(x)\n",
        "       x = self.c2(x)\n",
        "       x = self.bn2(x)\n",
        "\n",
        "       x_ = self.downsample(x_)\n",
        "\n",
        "       x += x\n",
        "       x = self.ReLU(x)\n",
        "\n",
        "       return x"
      ],
      "metadata": {
        "id": "KQcHdJxKwv8z"
      },
      "execution_count": 50,
      "outputs": []
    },
    {
      "cell_type": "code",
      "source": [
        "# torchsummary로 신경망 계층 정보확인\n",
        "import torchsummary\n",
        "\n",
        "myBasicBlock = BasicBlock(16, 5).to(DEVICE)\n",
        "torchsummary.summary(myBasicBlock, (16, 200, 50) ,16)"
      ],
      "metadata": {
        "colab": {
          "base_uri": "https://localhost:8080/"
        },
        "id": "PfO6SPifwv-g",
        "outputId": "c8711c43-9edb-4ab0-abe6-7e3130867fe1"
      },
      "execution_count": 61,
      "outputs": [
        {
          "output_type": "stream",
          "name": "stdout",
          "text": [
            "----------------------------------------------------------------\n",
            "        Layer (type)               Output Shape         Param #\n",
            "================================================================\n",
            "            Conv2d-1            [16, 5, 99, 46]           1,205\n",
            "       BatchNorm2d-2            [16, 5, 99, 46]              10\n",
            "              ReLU-3            [16, 5, 99, 46]               0\n",
            "            Conv2d-4            [16, 5, 99, 46]             230\n",
            "       BatchNorm2d-5            [16, 5, 99, 46]              10\n",
            "            Conv2d-6            [16, 5, 99, 46]           1,205\n",
            "              ReLU-7            [16, 5, 99, 46]               0\n",
            "================================================================\n",
            "Total params: 2,660\n",
            "Trainable params: 2,660\n",
            "Non-trainable params: 0\n",
            "----------------------------------------------------------------\n",
            "Input size (MB): 9.77\n",
            "Forward/backward pass size (MB): 19.46\n",
            "Params size (MB): 0.01\n",
            "Estimated Total Size (MB): 29.23\n",
            "----------------------------------------------------------------\n"
          ]
        }
      ]
    },
    {
      "cell_type": "code",
      "source": [],
      "metadata": {
        "id": "TYOZvXH7wwAQ"
      },
      "execution_count": 29,
      "outputs": []
    },
    {
      "cell_type": "code",
      "source": [],
      "metadata": {
        "id": "fx7OGjQFwwCP"
      },
      "execution_count": null,
      "outputs": []
    }
  ]
}
